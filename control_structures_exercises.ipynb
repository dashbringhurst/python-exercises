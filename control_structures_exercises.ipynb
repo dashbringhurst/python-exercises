{
 "cells": [
  {
   "cell_type": "markdown",
   "id": "bb14dc79",
   "metadata": {},
   "source": [
    "### Conditional Basics\n"
   ]
  },
  {
   "cell_type": "code",
   "execution_count": 6,
   "id": "c136ddec",
   "metadata": {},
   "outputs": [
    {
     "name": "stdout",
     "output_type": "stream",
     "text": [
      "What day of the week is it?Wednesday\n",
      "Today is not Monday\n"
     ]
    }
   ],
   "source": [
    "# prompt the user for a day of the week, print out whether the day is Monday or not\n",
    "\n",
    "day_of_week = input('What day of the week is it?')\n",
    "\n",
    "if day_of_week == 'Monday':\n",
    "    print('Today is Monday')\n",
    "else:\n",
    "    print('Today is not Monday')"
   ]
  },
  {
   "cell_type": "code",
   "execution_count": 12,
   "id": "f377a8de",
   "metadata": {},
   "outputs": [
    {
     "name": "stdout",
     "output_type": "stream",
     "text": [
      "What day of the week is it?Saturday\n",
      "It's the weekend.\n"
     ]
    }
   ],
   "source": [
    "# prompt the user for a day of the week, print out whether the day is a weekday or a weekend\n",
    "\n",
    "day_of_week = input('What day of the week is it?')\n",
    "if day_of_week == 'Saturday':\n",
    "    print('It\\'s the weekend.')\n",
    "elif day_of_week == 'Sunday':\n",
    "    print(\"It's the weekend.\")\n",
    "else:\n",
    "    print('Today is a weekday.')"
   ]
  },
  {
   "cell_type": "code",
   "execution_count": 32,
   "id": "d3485119",
   "metadata": {},
   "outputs": [
    {
     "name": "stdout",
     "output_type": "stream",
     "text": [
      "1127.5\n"
     ]
    }
   ],
   "source": [
    "# create variables and make up values for the number of hours worked in one week\n",
    "\n",
    "hours_worked = 50\n",
    "\n",
    "# the hourly rate\n",
    "\n",
    "hourly_rate = 20.50\n",
    "\n",
    "# how much the week's paycheck will be\n",
    "\n",
    "weekly_paycheck = hours_worked * hourly_rate\n",
    "\n",
    "# write the python code that calculates the weekly paycheck. \n",
    "# You get paid time and a half if you work more than 40 hours\n",
    "\n",
    "full_time = 20.50 * 40\n",
    "\n",
    "overtime = hourly_rate * 1.5\n",
    "\n",
    "overtime_hours = hours_worked - 40\n",
    "\n",
    "if hours_worked > 40:\n",
    "    print(full_time + (overtime * overtime_hours))\n",
    "else:\n",
    "    print(weekly_paycheck)\n"
   ]
  },
  {
   "cell_type": "markdown",
   "id": "3d02f784",
   "metadata": {},
   "source": [
    "### Loop Basics"
   ]
  },
  {
   "cell_type": "code",
   "execution_count": 38,
   "id": "4c96d94a",
   "metadata": {},
   "outputs": [
    {
     "name": "stdout",
     "output_type": "stream",
     "text": [
      "5\n",
      "6\n",
      "7\n",
      "8\n",
      "9\n",
      "10\n",
      "11\n",
      "12\n",
      "13\n",
      "14\n",
      "15\n"
     ]
    }
   ],
   "source": [
    "# While\n",
    "\n",
    "# Create an integer variable i with a value of 5.\n",
    "\n",
    "i = 5\n",
    "\n",
    "# Create a while loop that runs so long as i is less than or equal to 15\n",
    "\n",
    "while i <= 15:\n",
    "    \n",
    "# Each loop iteration, output the current value of i, then increment i by one.\n",
    "    print(i)\n",
    "    i += 1"
   ]
  },
  {
   "cell_type": "code",
   "execution_count": 72,
   "id": "508c9c56",
   "metadata": {},
   "outputs": [
    {
     "name": "stdout",
     "output_type": "stream",
     "text": [
      "0\n",
      "-------\n",
      "2\n",
      "-------\n",
      "4\n",
      "-------\n",
      "6\n",
      "-------\n",
      "8\n",
      "-------\n",
      "10\n",
      "-------\n",
      "12\n",
      "-------\n",
      "14\n",
      "-------\n",
      "16\n",
      "-------\n",
      "18\n",
      "-------\n",
      "20\n",
      "-------\n",
      "22\n",
      "-------\n",
      "24\n",
      "-------\n",
      "26\n",
      "-------\n",
      "28\n",
      "-------\n",
      "30\n",
      "-------\n",
      "32\n",
      "-------\n",
      "34\n",
      "-------\n",
      "36\n",
      "-------\n",
      "38\n",
      "-------\n",
      "40\n",
      "-------\n",
      "42\n",
      "-------\n",
      "44\n",
      "-------\n",
      "46\n",
      "-------\n",
      "48\n",
      "-------\n",
      "50\n",
      "-------\n",
      "52\n",
      "-------\n",
      "54\n",
      "-------\n",
      "56\n",
      "-------\n",
      "58\n",
      "-------\n",
      "60\n",
      "-------\n",
      "62\n",
      "-------\n",
      "64\n",
      "-------\n",
      "66\n",
      "-------\n",
      "68\n",
      "-------\n",
      "70\n",
      "-------\n",
      "72\n",
      "-------\n",
      "74\n",
      "-------\n",
      "76\n",
      "-------\n",
      "78\n",
      "-------\n",
      "80\n",
      "-------\n",
      "82\n",
      "-------\n",
      "84\n",
      "-------\n",
      "86\n",
      "-------\n",
      "88\n",
      "-------\n",
      "90\n",
      "-------\n",
      "92\n",
      "-------\n",
      "94\n",
      "-------\n",
      "96\n",
      "-------\n",
      "98\n",
      "-------\n",
      "100\n",
      "-------\n"
     ]
    }
   ],
   "source": [
    "# Create a while loop that will count by 2's starting with 0 and ending at 100. \n",
    "# Follow each number with a new line.\n",
    "i = 0\n",
    "while i <= 50:\n",
    "    print(i * 2)\n",
    "    i += 1\n",
    "    print('-------')"
   ]
  },
  {
   "cell_type": "code",
   "execution_count": 81,
   "id": "dc54b056",
   "metadata": {},
   "outputs": [
    {
     "name": "stdout",
     "output_type": "stream",
     "text": [
      "95\n",
      "90\n",
      "85\n",
      "80\n",
      "75\n",
      "70\n",
      "65\n",
      "60\n",
      "55\n",
      "50\n",
      "45\n",
      "40\n",
      "35\n",
      "30\n",
      "25\n",
      "20\n",
      "15\n",
      "10\n",
      "5\n",
      "0\n",
      "-5\n",
      "-10\n"
     ]
    }
   ],
   "source": [
    "# Alter your loop to count backwards by 5's from 100 to -10.\n",
    "\n",
    "i = 100\n",
    "while i > -10:\n",
    "    i -= 5\n",
    "    print(i)\n",
    "    \n"
   ]
  },
  {
   "cell_type": "code",
   "execution_count": 52,
   "id": "afb7f155",
   "metadata": {},
   "outputs": [
    {
     "name": "stdout",
     "output_type": "stream",
     "text": [
      "2\n",
      "4\n",
      "16\n",
      "256\n",
      "65536\n"
     ]
    }
   ],
   "source": [
    "# Create a while loop that starts at 2, and displays the number squared on each line \n",
    "# while the number is less than 1,000,000.\n",
    "\n",
    "i = 2\n",
    "while i < 1000000:\n",
    "    print(i)\n",
    "    i = (i ** 2)\n",
    "    "
   ]
  },
  {
   "cell_type": "code",
   "execution_count": 54,
   "id": "b719e848",
   "metadata": {},
   "outputs": [
    {
     "name": "stdout",
     "output_type": "stream",
     "text": [
      "100\n",
      "95\n",
      "90\n",
      "85\n",
      "80\n",
      "75\n",
      "70\n",
      "65\n",
      "60\n",
      "55\n",
      "50\n",
      "45\n",
      "40\n",
      "35\n",
      "30\n",
      "25\n",
      "20\n",
      "15\n",
      "10\n",
      "5\n"
     ]
    }
   ],
   "source": [
    "for i in range(100, 0, -5):\n",
    "    print(i)"
   ]
  },
  {
   "cell_type": "code",
   "execution_count": 58,
   "id": "de6f2ca5",
   "metadata": {},
   "outputs": [
    {
     "name": "stdout",
     "output_type": "stream",
     "text": [
      "Enter a number: 7\n",
      "7 X 1 = 7\n",
      "7 X 2 = 14\n",
      "7 X 3 = 21\n",
      "7 X 4 = 28\n",
      "7 X 5 = 35\n",
      "7 X 6 = 42\n",
      "7 X 7 = 49\n",
      "7 X 8 = 56\n",
      "7 X 9 = 63\n",
      "7 X 10 = 70\n"
     ]
    }
   ],
   "source": [
    "# For Loops\n",
    "\n",
    "# Write some code that prompts the user for a number, \n",
    "# then shows a multiplication table up through 10 for that number.\n",
    "\n",
    "my_number = input('Enter a number: ')\n",
    "for i in range(1, 11):\n",
    "    x = i * int(my_number)\n",
    "    print(f'{my_number} X {i} = {x}')\n"
   ]
  },
  {
   "cell_type": "code",
   "execution_count": 63,
   "id": "dd5cfbc3",
   "metadata": {},
   "outputs": [
    {
     "name": "stdout",
     "output_type": "stream",
     "text": [
      "1\n",
      "22\n",
      "333\n",
      "4444\n",
      "55555\n",
      "666666\n",
      "7777777\n",
      "88888888\n",
      "999999999\n"
     ]
    }
   ],
   "source": [
    "# Create a for loop that uses print to create the output shown below.\n",
    "\n",
    "\n",
    "# 1\n",
    "# 22\n",
    "# 333\n",
    "# 4444\n",
    "# 55555\n",
    "# 666666\n",
    "# 7777777\n",
    "# 88888888\n",
    "# 999999999\n",
    "\n",
    "for i in range(1, 10):\n",
    "    i = (str(i)) * i\n",
    "    print(i)\n",
    "\n",
    "    "
   ]
  },
  {
   "cell_type": "code",
   "execution_count": 7,
   "id": "acbc8091",
   "metadata": {},
   "outputs": [
    {
     "name": "stdout",
     "output_type": "stream",
     "text": [
      "Enter an odd number between 1 and 50: 5\n",
      "1\n",
      "3\n",
      "7\n",
      "9\n",
      "11\n",
      "13\n",
      "15\n",
      "17\n",
      "19\n",
      "21\n",
      "23\n",
      "25\n",
      "27\n",
      "29\n",
      "31\n",
      "33\n",
      "35\n",
      "37\n",
      "39\n",
      "41\n",
      "43\n",
      "45\n",
      "47\n",
      "49\n"
     ]
    }
   ],
   "source": [
    "# break and continue\n",
    "\n",
    "# Prompt the user for an odd number between 1 and 50.\n",
    "\n",
    "while True:\n",
    "    user_number = input('Enter an odd number between 1 and 50: ')\n",
    "    if user_number.isdigit() == True and int(user_number) % 2 == 1 and int(user_number) >= 1 and int(user_number) <= 50:\n",
    "        break\n",
    "        \n",
    "for i in range(1,51):\n",
    "    if i == int(user_number):\n",
    "        continue\n",
    "    if i % 2 == 1:\n",
    "        print(i)\n",
    "\n",
    "# Use a loop and a break statement to continue prompting the user \n",
    "# if they enter invalid input. \n",
    "# (Hint: use the isdigit method on strings to determine this). \n",
    "\n",
    "\n",
    "\n",
    "# Use a loop and the continue statement to output all the odd numbers \n",
    "# between 1 and 50, except for the number the user entered.\n",
    "\n"
   ]
  },
  {
   "cell_type": "code",
   "execution_count": 10,
   "id": "75e71159",
   "metadata": {},
   "outputs": [
    {
     "name": "stdout",
     "output_type": "stream",
     "text": [
      "Enter a positive integer: 5\n",
      "0\n",
      "1\n",
      "2\n",
      "3\n",
      "4\n",
      "5\n"
     ]
    }
   ],
   "source": [
    "# Prompt the user to enter a positive number and write a loop that counts from 0 to that number. \n",
    "# (Hints: first make sure that the value the user entered is a valid number, \n",
    "# also note that the input function returns a string, \n",
    "# so you'll need to convert this to a numeric type.)\n",
    "\n",
    "while True:\n",
    "    pos_int = input('Enter a positive integer: ')\n",
    "        \n",
    "    if pos_int.isdigit() == True and int(pos_int) > 0:\n",
    "        break\n",
    "\n",
    "for i in range(int(pos_int) + 1):\n",
    "    print(i)\n"
   ]
  },
  {
   "cell_type": "code",
   "execution_count": 9,
   "id": "fecbf112",
   "metadata": {},
   "outputs": [
    {
     "name": "stdout",
     "output_type": "stream",
     "text": [
      "Enter a positive integer: 5\n",
      "5\n",
      "4\n",
      "3\n",
      "2\n",
      "1\n"
     ]
    }
   ],
   "source": [
    "# Write a program that prompts the user for a positive integer. \n",
    "# Next write a loop that prints out the numbers from the number the user entered down to 1.\n",
    "\n",
    "while True:\n",
    "    pos_int = input('Enter a positive integer: ')\n",
    "        \n",
    "    if pos_int.isdigit() == True and int(pos_int) > 0:\n",
    "        break\n",
    "\n",
    "for i in range(int(pos_int), 0, -1):\n",
    "    print(i)"
   ]
  },
  {
   "cell_type": "code",
   "execution_count": 173,
   "id": "89062db6",
   "metadata": {},
   "outputs": [
    {
     "name": "stdout",
     "output_type": "stream",
     "text": [
      "1\n",
      "2\n",
      "Fizz\n",
      "4\n",
      "Buzz\n",
      "Fizz\n",
      "7\n",
      "8\n",
      "Fizz\n",
      "Buzz\n",
      "11\n",
      "Fizz\n",
      "13\n",
      "14\n",
      "FizzBuzz\n",
      "16\n",
      "17\n",
      "Fizz\n",
      "19\n",
      "Buzz\n",
      "Fizz\n",
      "22\n",
      "23\n",
      "Fizz\n",
      "Buzz\n",
      "26\n",
      "Fizz\n",
      "28\n",
      "29\n",
      "FizzBuzz\n",
      "31\n",
      "32\n",
      "Fizz\n",
      "34\n",
      "Buzz\n",
      "Fizz\n",
      "37\n",
      "38\n",
      "Fizz\n",
      "Buzz\n",
      "41\n",
      "Fizz\n",
      "43\n",
      "44\n",
      "FizzBuzz\n",
      "46\n",
      "47\n",
      "Fizz\n",
      "49\n",
      "Buzz\n",
      "Fizz\n",
      "52\n",
      "53\n",
      "Fizz\n",
      "Buzz\n",
      "56\n",
      "Fizz\n",
      "58\n",
      "59\n",
      "FizzBuzz\n",
      "61\n",
      "62\n",
      "Fizz\n",
      "64\n",
      "Buzz\n",
      "Fizz\n",
      "67\n",
      "68\n",
      "Fizz\n",
      "Buzz\n",
      "71\n",
      "Fizz\n",
      "73\n",
      "74\n",
      "FizzBuzz\n",
      "76\n",
      "77\n",
      "Fizz\n",
      "79\n",
      "Buzz\n",
      "Fizz\n",
      "82\n",
      "83\n",
      "Fizz\n",
      "Buzz\n",
      "86\n",
      "Fizz\n",
      "88\n",
      "89\n",
      "FizzBuzz\n",
      "91\n",
      "92\n",
      "Fizz\n",
      "94\n",
      "Buzz\n",
      "Fizz\n",
      "97\n",
      "98\n",
      "Fizz\n",
      "Buzz\n"
     ]
    }
   ],
   "source": [
    "# Fizzbuzz\n",
    "\n",
    "# One of the most common interview questions for entry-level programmers is the FizzBuzz test. \n",
    "# Developed by Imran Ghory, the test is designed to test basic looping and conditional logic \n",
    "# skills.\n",
    "\n",
    "# Write a program that prints the numbers from 1 to 100.\n",
    "# For multiples of three print \"Fizz\" instead of the number\n",
    "# For the multiples of five print \"Buzz\".\n",
    "# For numbers which are multiples of both three and five print \"FizzBuzz\".\n",
    "\n",
    "for i in range(1, 101):\n",
    "    if i % 3 == 0 and i % 5 == 0:\n",
    "        print('FizzBuzz')\n",
    "    elif i % 5 == 0:\n",
    "        print('Buzz')\n",
    "    elif i % 3 == 0:\n",
    "        print('Fizz')\n",
    "    else:\n",
    "        print(i)\n"
   ]
  },
  {
   "cell_type": "code",
   "execution_count": 15,
   "id": "14906e19",
   "metadata": {},
   "outputs": [
    {
     "name": "stdout",
     "output_type": "stream",
     "text": [
      "Enter an integer: 4\n",
      "-  -  -\n",
      "1  1  1\n",
      "-  -  -\n",
      "-  -  -\n",
      "2  4  8\n",
      "-  -  -\n",
      "-  -  --\n",
      "3  9  27\n",
      "-  -  --\n",
      "-  --  --\n",
      "4  16  64\n",
      "-  --  --\n",
      "Would you like to continue? Enter (y/n): n\n"
     ]
    }
   ],
   "source": [
    "# Display a table of powers.\n",
    "\n",
    "# Prompt the user to enter an integer.\n",
    "# Display a table of squares and cubes from 1 to the value entered.\n",
    "# Ask if the user wants to continue.\n",
    "# Assume that the user will enter valid data.\n",
    "# Only continue if the user agrees to.\n",
    "\n",
    "from tabulate import tabulate\n",
    "\n",
    "while True:\n",
    "    user_number = input('Enter an integer: ')\n",
    "    user_number = int(user_number)\n",
    "    for i in range(1, user_number + 1):\n",
    "        table = [[i, (i**2), (i**3)]]\n",
    "        print(tabulate(table))\n",
    "        \n",
    "    yes_no = input('Would you like to continue? Enter (y/n): ')\n",
    "    if yes_no != 'y':\n",
    "        break"
   ]
  },
  {
   "cell_type": "code",
   "execution_count": null,
   "id": "0aa6976f",
   "metadata": {},
   "outputs": [],
   "source": [
    "# Bonus: Research python's format string specifiers to align the table\n",
    "\n"
   ]
  },
  {
   "cell_type": "code",
   "execution_count": 16,
   "id": "29f55bcd",
   "metadata": {},
   "outputs": [
    {
     "name": "stdout",
     "output_type": "stream",
     "text": [
      "Enter a numerical grade from 0 to 100: 45\n",
      "F\n"
     ]
    }
   ],
   "source": [
    "# Convert given number grades into letter grades.\n",
    "\n",
    "# Prompt the user for a numerical grade from 0 to 100.\n",
    "# Display the corresponding letter grade.\n",
    "# Prompt the user to continue.\n",
    "# Assume that the user will enter valid integers for the grades.\n",
    "# The application should only continue if the user agrees to.\n",
    "# Grade Ranges:\n",
    "\n",
    "# A : 100 - 88\n",
    "# B : 87 - 80\n",
    "# C : 79 - 67\n",
    "# D : 66 - 60\n",
    "# F : 59 - 0\n",
    "\n",
    "user_grade = input('Enter a numerical grade from 0 to 100: ')\n",
    "user_grade = int(user_grade)\n",
    "\n",
    "if user_grade >= 88:\n",
    "    print('A')\n",
    "elif user_grade >= 80:\n",
    "    print('B')\n",
    "elif user_grade >= 67:\n",
    "    print('C')\n",
    "elif user_grade >= 60:\n",
    "    print('D')\n",
    "else:\n",
    "    print('F')\n"
   ]
  },
  {
   "cell_type": "code",
   "execution_count": 28,
   "id": "5631244d",
   "metadata": {},
   "outputs": [
    {
     "name": "stdout",
     "output_type": "stream",
     "text": [
      "Enter a numerical grade from 0 to 100: 86\n",
      "B\n"
     ]
    }
   ],
   "source": [
    "# Bonus\n",
    "\n",
    "# Edit your grade ranges to include pluses and minuses (ex: 99-100 = A+).\n",
    "\n",
    "user_grade = input('Enter a numerical grade from 0 to 100: ')\n",
    "user_grade = int(user_grade)\n",
    "\n",
    "if user_grade >= 97:\n",
    "    print('A+')\n",
    "elif user_grade >= 93:\n",
    "    pring('A')\n",
    "elif user_grade >= 90:\n",
    "    print('A-')\n",
    "elif user_grade >= 87:\n",
    "    print('B+')\n",
    "elif user_grade >= 83:\n",
    "    print('B')\n",
    "elif user_grade >= 80:\n",
    "    print('B-')\n",
    "elif user_grade >= 77:\n",
    "    print('C+')\n",
    "elif user_grade >= 73:\n",
    "    print('C')\n",
    "elif user_grade >= 69:\n",
    "    print('C-')\n",
    "else:\n",
    "    print('F')\n"
   ]
  },
  {
   "cell_type": "code",
   "execution_count": 24,
   "id": "9452b556",
   "metadata": {},
   "outputs": [],
   "source": [
    "# Create a list of dictionaries where each dictionary represents a book that you have read. \n",
    "# Each dictionary in the list should have the keys title, author, and genre. \n",
    "\n",
    "my_library = [{'title': 'Alice in Wonderland', 'author': 'Lewis Carroll', 'genre': 'fantasy'},\n",
    "        {'title': 'Pride and Prejudice', 'author': 'Jane Austen', 'genre': 'romance'}, \n",
    "        {'title': 'The Man in the High Castle', 'author': 'Philip K. Dick', 'genre': 'sci-fi'},\n",
    "        {'title': 'A Court of Thorns and Roses', 'author': 'Sarah J. Maas', 'genre': 'fantasy'}\n",
    "        ]\n"
   ]
  },
  {
   "cell_type": "code",
   "execution_count": 25,
   "id": "63d1c1fd",
   "metadata": {},
   "outputs": [
    {
     "name": "stdout",
     "output_type": "stream",
     "text": [
      "{'title': 'Alice in Wonderland', 'author': 'Lewis Carroll', 'genre': 'fantasy'}\n",
      "{'title': 'Pride and Prejudice', 'author': 'Jane Austen', 'genre': 'romance'}\n",
      "{'title': 'The Man in the High Castle', 'author': 'Philip K. Dick', 'genre': 'sci-fi'}\n",
      "{'title': 'A Court of Thorns and Roses', 'author': 'Sarah J. Maas', 'genre': 'fantasy'}\n"
     ]
    }
   ],
   "source": [
    "# Loop through the list and print out information about each book.\n",
    "\n",
    "for book in my_library:\n",
    "    print(book)"
   ]
  },
  {
   "cell_type": "code",
   "execution_count": 26,
   "id": "888d20f3",
   "metadata": {},
   "outputs": [
    {
     "name": "stdout",
     "output_type": "stream",
     "text": [
      "Enter a genre: fantasy\n",
      "Alice in Wonderland\n",
      "A Court of Thorns and Roses\n"
     ]
    }
   ],
   "source": [
    "# Prompt the user to enter a genre, then loop through your books list and print \n",
    "# out the titles of all the books in that genre.\n",
    "\n",
    "user_genre = input('Enter a genre: ')\n",
    "\n",
    "for book in my_library:\n",
    "    if book['genre'] == user_genre:\n",
    "        print(book['title'])"
   ]
  }
 ],
 "metadata": {
  "kernelspec": {
   "display_name": "Python 3 (ipykernel)",
   "language": "python",
   "name": "python3"
  },
  "language_info": {
   "codemirror_mode": {
    "name": "ipython",
    "version": 3
   },
   "file_extension": ".py",
   "mimetype": "text/x-python",
   "name": "python",
   "nbconvert_exporter": "python",
   "pygments_lexer": "ipython3",
   "version": "3.9.12"
  }
 },
 "nbformat": 4,
 "nbformat_minor": 5
}
