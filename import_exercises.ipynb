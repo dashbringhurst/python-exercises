{
 "cells": [
  {
   "cell_type": "code",
   "execution_count": 309,
   "id": "ce6a461c",
   "metadata": {},
   "outputs": [],
   "source": [
    "import math"
   ]
  },
  {
   "cell_type": "code",
   "execution_count": 310,
   "id": "3d1d2eb2",
   "metadata": {},
   "outputs": [
    {
     "data": {
      "text/plain": [
       "3.141592653589793"
      ]
     },
     "execution_count": 310,
     "metadata": {},
     "output_type": "execute_result"
    }
   ],
   "source": [
    "# When calling a function from an imported module, use module_name.function_name\n",
    "math.pi"
   ]
  },
  {
   "cell_type": "code",
   "execution_count": 311,
   "id": "224a8702",
   "metadata": {},
   "outputs": [
    {
     "data": {
      "text/plain": [
       "8.0"
      ]
     },
     "execution_count": 311,
     "metadata": {},
     "output_type": "execute_result"
    }
   ],
   "source": [
    "math.sqrt(64)"
   ]
  },
  {
   "cell_type": "code",
   "execution_count": 312,
   "id": "a658a953",
   "metadata": {},
   "outputs": [
    {
     "data": {
      "text/plain": [
       "10.0"
      ]
     },
     "execution_count": 312,
     "metadata": {},
     "output_type": "execute_result"
    }
   ],
   "source": [
    "from math import sqrt\n",
    "sqrt(100)"
   ]
  },
  {
   "cell_type": "code",
   "execution_count": 313,
   "id": "a57f74e4",
   "metadata": {},
   "outputs": [],
   "source": [
    "import numpy as np"
   ]
  },
  {
   "cell_type": "code",
   "execution_count": 314,
   "id": "5f83b319",
   "metadata": {},
   "outputs": [
    {
     "data": {
      "text/plain": [
       "array([0, 1, 2, 3, 4, 5, 6, 7, 8, 9])"
      ]
     },
     "execution_count": 314,
     "metadata": {},
     "output_type": "execute_result"
    }
   ],
   "source": [
    "np.arange(10)"
   ]
  },
  {
   "cell_type": "code",
   "execution_count": 315,
   "id": "6ec178e4",
   "metadata": {},
   "outputs": [],
   "source": [
    "import pandas as pd"
   ]
  },
  {
   "cell_type": "code",
   "execution_count": 316,
   "id": "40978d5b",
   "metadata": {},
   "outputs": [
    {
     "data": {
      "text/plain": [
       "0    0\n",
       "1    1\n",
       "2    2\n",
       "3    3\n",
       "4    4\n",
       "dtype: int64"
      ]
     },
     "execution_count": 316,
     "metadata": {},
     "output_type": "execute_result"
    }
   ],
   "source": [
    "pd.Series((np.arange(5)))"
   ]
  },
  {
   "cell_type": "code",
   "execution_count": 317,
   "id": "3e619c4c",
   "metadata": {},
   "outputs": [],
   "source": [
    "# Import and test 3 of the functions from your functions exercise file. \n",
    "# Import each function in a different way:\n",
    "\n",
    "# Run an interactive python session and import the module. \n",
    "# Call the is_vowel function using the . syntax.\n",
    "\n",
    "import functions_exercises\n"
   ]
  },
  {
   "cell_type": "code",
   "execution_count": 318,
   "id": "c1274e89",
   "metadata": {},
   "outputs": [
    {
     "data": {
      "text/plain": [
       "True"
      ]
     },
     "execution_count": 318,
     "metadata": {},
     "output_type": "execute_result"
    }
   ],
   "source": [
    "functions_exercises.is_vowel('O')"
   ]
  },
  {
   "cell_type": "code",
   "execution_count": 319,
   "id": "04f396ac",
   "metadata": {},
   "outputs": [],
   "source": [
    "# Create a file named import_exericses.py. \n",
    "# Within this file, use from to import the calculate_tip function directly. \n",
    "# Call this function with values you choose and print the result."
   ]
  },
  {
   "cell_type": "code",
   "execution_count": 320,
   "id": "9f442a89",
   "metadata": {},
   "outputs": [
    {
     "data": {
      "text/plain": [
       "'C'"
      ]
     },
     "execution_count": 320,
     "metadata": {},
     "output_type": "execute_result"
    }
   ],
   "source": [
    "# Create a jupyter notebook named import_exercises.ipynb. \n",
    "# Use from to import the get_letter_grade function and give it an alias. \n",
    "# Test this function in your notebook.\n",
    "# Make sure your code that tests the function imports is run from the same directory \n",
    "# that your functions exercise file is in.\n",
    "\n",
    "from functions_exercises import get_letter_grade as lg\n",
    "\n",
    "lg(76)"
   ]
  },
  {
   "cell_type": "code",
   "execution_count": 321,
   "id": "92b6de77",
   "metadata": {},
   "outputs": [],
   "source": [
    "# Read about and use the itertools module from the python standard library to help you \n",
    "# solve the following problems:\n",
    "\n",
    "# How many different ways can you combine the letters from \"abc\" with the numbers 1, 2, and 3?\n",
    "# How many different combinations are there of 2 letters from \"abcd\"?\n",
    "# How many different permutations are there of 2 letters from \"abcd\"?\n",
    "\n",
    "import itertools"
   ]
  },
  {
   "cell_type": "code",
   "execution_count": 322,
   "id": "b59dbdee",
   "metadata": {},
   "outputs": [
    {
     "data": {
      "text/plain": [
       "[('a', 'b'),\n",
       " ('a', 'c'),\n",
       " ('a', 'd'),\n",
       " ('b', 'a'),\n",
       " ('b', 'c'),\n",
       " ('b', 'd'),\n",
       " ('c', 'a'),\n",
       " ('c', 'b'),\n",
       " ('c', 'd'),\n",
       " ('d', 'a'),\n",
       " ('d', 'b'),\n",
       " ('d', 'c')]"
      ]
     },
     "execution_count": 322,
     "metadata": {},
     "output_type": "execute_result"
    }
   ],
   "source": [
    "list(itertools.permutations('abcd', 2))\n"
   ]
  },
  {
   "cell_type": "code",
   "execution_count": null,
   "id": "4190e5eb",
   "metadata": {},
   "outputs": [],
   "source": []
  },
  {
   "cell_type": "code",
   "execution_count": 323,
   "id": "f671349d",
   "metadata": {},
   "outputs": [],
   "source": [
    "import json\n"
   ]
  },
  {
   "cell_type": "code",
   "execution_count": 605,
   "id": "a50eb54b",
   "metadata": {},
   "outputs": [],
   "source": [
    "profiles = json.load(open('profiles.json'))\n"
   ]
  },
  {
   "cell_type": "code",
   "execution_count": 325,
   "id": "211a8552",
   "metadata": {},
   "outputs": [],
   "source": [
    "# Using this data, write some code that calculates and outputs the following information:"
   ]
  },
  {
   "cell_type": "code",
   "execution_count": 326,
   "id": "d803b3fe",
   "metadata": {},
   "outputs": [
    {
     "data": {
      "text/plain": [
       "19"
      ]
     },
     "execution_count": 326,
     "metadata": {},
     "output_type": "execute_result"
    }
   ],
   "source": [
    "# Total number of users\n",
    "\n",
    "len(profiles)"
   ]
  },
  {
   "cell_type": "code",
   "execution_count": 327,
   "id": "716701bf",
   "metadata": {},
   "outputs": [],
   "source": [
    "# Number of active users\n",
    "\n",
    "def active_users(x):\n",
    "    total = 0\n",
    "    for i in x:\n",
    "        if (i['isActive']) == True:\n",
    "            total += 1\n",
    "    return total"
   ]
  },
  {
   "cell_type": "code",
   "execution_count": 328,
   "id": "3b26e028",
   "metadata": {},
   "outputs": [
    {
     "data": {
      "text/plain": [
       "9"
      ]
     },
     "execution_count": 328,
     "metadata": {},
     "output_type": "execute_result"
    }
   ],
   "source": [
    "active_users(profiles)"
   ]
  },
  {
   "cell_type": "code",
   "execution_count": 329,
   "id": "6ce91671",
   "metadata": {},
   "outputs": [],
   "source": [
    "# Number of inactive users\n",
    "\n",
    "def inactive_users(x):\n",
    "    total = 0\n",
    "    for i in x:\n",
    "        if (i['isActive']) == False:\n",
    "            total += 1\n",
    "    return total"
   ]
  },
  {
   "cell_type": "code",
   "execution_count": 330,
   "id": "b298bbb6",
   "metadata": {},
   "outputs": [
    {
     "data": {
      "text/plain": [
       "10"
      ]
     },
     "execution_count": 330,
     "metadata": {},
     "output_type": "execute_result"
    }
   ],
   "source": [
    "inactive_users(profiles)"
   ]
  },
  {
   "cell_type": "code",
   "execution_count": 332,
   "id": "1ca80852",
   "metadata": {},
   "outputs": [],
   "source": [
    "# Grand total of balances for all users\n",
    "\n",
    "def balances(x):\n",
    "    sum_amt = 0\n",
    "    for i in x:\n",
    "        list_of_balances = []\n",
    "        balance = i['balance']\n",
    "        balance = balance.replace('$', '')\n",
    "        balance = balance.replace(',', '')\n",
    "        list_of_balances.append(float(balance))\n",
    "        for amt in list_of_balances:\n",
    "            sum_amt += amt\n",
    "    return sum_amt\n"
   ]
  },
  {
   "cell_type": "code",
   "execution_count": 333,
   "id": "03a37bd1",
   "metadata": {},
   "outputs": [
    {
     "data": {
      "text/plain": [
       "52667.02"
      ]
     },
     "execution_count": 333,
     "metadata": {},
     "output_type": "execute_result"
    }
   ],
   "source": [
    "balances(profiles)"
   ]
  },
  {
   "cell_type": "code",
   "execution_count": 334,
   "id": "08497956",
   "metadata": {},
   "outputs": [
    {
     "data": {
      "text/plain": [
       "2771.95"
      ]
     },
     "execution_count": 334,
     "metadata": {},
     "output_type": "execute_result"
    }
   ],
   "source": [
    "# Average balance per user\n",
    "\n",
    "round(total_balances(profiles) / len(profiles), 2)"
   ]
  },
  {
   "cell_type": "code",
   "execution_count": 374,
   "id": "c0f4c69f",
   "metadata": {},
   "outputs": [],
   "source": [
    "# User with the lowest balance\n",
    "list_of_balances = []\n",
    "def lowest_balance(x):\n",
    "    for i in x:\n",
    "        balance = i['balance']\n",
    "        balance = balance.replace('$', '')\n",
    "        balance = balance.replace(',', '')\n",
    "        balance = balance.replace('.', '')\n",
    "        list_of_balances.append(int(balance))\n",
    "        for i in list_of_balances:\n",
    "            min_balance = min(list_of_balances)\n",
    "    return round((min_balance / 100), 2)\n"
   ]
  },
  {
   "cell_type": "code",
   "execution_count": 375,
   "id": "8dd088f4",
   "metadata": {},
   "outputs": [
    {
     "data": {
      "text/plain": [
       "1214.1"
      ]
     },
     "execution_count": 375,
     "metadata": {},
     "output_type": "execute_result"
    }
   ],
   "source": [
    "lowest_balance(profiles)"
   ]
  },
  {
   "cell_type": "code",
   "execution_count": 382,
   "id": "aa38fbc0",
   "metadata": {},
   "outputs": [],
   "source": [
    "# User with the highest balance\n",
    "\n",
    "def highest_balance(x):\n",
    "    max_balance = max(list_of_balances)\n",
    "    return round((max_balance / 100), 2)"
   ]
  },
  {
   "cell_type": "code",
   "execution_count": 383,
   "id": "fb0abd31",
   "metadata": {},
   "outputs": [
    {
     "data": {
      "text/plain": [
       "3919.64"
      ]
     },
     "execution_count": 383,
     "metadata": {},
     "output_type": "execute_result"
    }
   ],
   "source": [
    "highest_balance(profiles)"
   ]
  },
  {
   "cell_type": "code",
   "execution_count": 653,
   "id": "f10e461d",
   "metadata": {},
   "outputs": [],
   "source": [
    "# Most common favorite fruit\n",
    "\n",
    "from collections import Counter\n",
    "fruits = []\n",
    "def most_fav_fruit(x):\n",
    "    for i in x:\n",
    "        fruit_type = i['favoriteFruit']\n",
    "        fruits.append(fruit_type)\n",
    "    return Counter(fruits).most_common(1)   "
   ]
  },
  {
   "cell_type": "code",
   "execution_count": 654,
   "id": "62db74bd",
   "metadata": {},
   "outputs": [
    {
     "data": {
      "text/plain": [
       "[('strawberry', 9)]"
      ]
     },
     "execution_count": 654,
     "metadata": {},
     "output_type": "execute_result"
    }
   ],
   "source": [
    "most_fav_fruit(profiles)"
   ]
  },
  {
   "cell_type": "code",
   "execution_count": 665,
   "id": "4f74ef78",
   "metadata": {},
   "outputs": [],
   "source": [
    "# Least common favorite fruit\n",
    "\n",
    "least_common = []\n",
    "def least_fav_fruit(x):\n",
    "    for i in x:\n",
    "        fruit_type = i['favoriteFruit']\n",
    "        least_common.append(fruit_type)\n",
    "    return (Counter(least_common).most_common()[-1])\n",
    "        \n",
    "    "
   ]
  },
  {
   "cell_type": "code",
   "execution_count": 666,
   "id": "c9ebd6e4",
   "metadata": {},
   "outputs": [
    {
     "data": {
      "text/plain": [
       "('apple', 4)"
      ]
     },
     "execution_count": 666,
     "metadata": {},
     "output_type": "execute_result"
    }
   ],
   "source": [
    "least_fav_fruit(profiles)"
   ]
  },
  {
   "cell_type": "code",
   "execution_count": 673,
   "id": "0d9ec0f0",
   "metadata": {},
   "outputs": [],
   "source": [
    "# Total number of unread messages for all users\n",
    "message_count = []\n",
    "def total_unread_messages(x):\n",
    "    for i in x:\n",
    "        messages = i['greeting']\n",
    "        message_count = ([int(s) for s in messages.split() if s.isdigit()])\n",
    "        print(message_count)\n",
    "            # message_count.append(messages)\n",
    "            # print(message_count)\n",
    "            \n"
   ]
  },
  {
   "cell_type": "code",
   "execution_count": 672,
   "id": "77965a36",
   "metadata": {},
   "outputs": [
    {
     "name": "stdout",
     "output_type": "stream",
     "text": [
      "[4]\n",
      "[19]\n",
      "[5]\n",
      "[10]\n",
      "[9]\n",
      "[19]\n",
      "[13]\n",
      "[17]\n",
      "[2]\n",
      "[18]\n",
      "[2]\n",
      "[13]\n",
      "[7]\n",
      "[13]\n",
      "[12]\n",
      "[7]\n",
      "[19]\n",
      "[5]\n",
      "[16]\n"
     ]
    }
   ],
   "source": [
    "total_unread_messages(profiles)"
   ]
  },
  {
   "cell_type": "code",
   "execution_count": null,
   "id": "cd09ada4",
   "metadata": {},
   "outputs": [],
   "source": []
  }
 ],
 "metadata": {
  "kernelspec": {
   "display_name": "Python 3 (ipykernel)",
   "language": "python",
   "name": "python3"
  },
  "language_info": {
   "codemirror_mode": {
    "name": "ipython",
    "version": 3
   },
   "file_extension": ".py",
   "mimetype": "text/x-python",
   "name": "python",
   "nbconvert_exporter": "python",
   "pygments_lexer": "ipython3",
   "version": "3.9.12"
  }
 },
 "nbformat": 4,
 "nbformat_minor": 5
}
