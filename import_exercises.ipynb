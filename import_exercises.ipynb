{
 "cells": [
  {
   "cell_type": "code",
   "execution_count": 992,
   "id": "ef5eef39",
   "metadata": {},
   "outputs": [],
   "source": [
    "import math"
   ]
  },
  {
   "cell_type": "code",
   "execution_count": 993,
   "id": "bc4b3392",
   "metadata": {},
   "outputs": [
    {
     "data": {
      "text/plain": [
       "3.141592653589793"
      ]
     },
     "execution_count": 993,
     "metadata": {},
     "output_type": "execute_result"
    }
   ],
   "source": [
    "# When calling a function from an imported module, use module_name.function_name\n",
    "math.pi"
   ]
  },
  {
   "cell_type": "code",
   "execution_count": 994,
   "id": "9ef268c8",
   "metadata": {},
   "outputs": [
    {
     "data": {
      "text/plain": [
       "8.0"
      ]
     },
     "execution_count": 994,
     "metadata": {},
     "output_type": "execute_result"
    }
   ],
   "source": [
    "math.sqrt(64)"
   ]
  },
  {
   "cell_type": "code",
   "execution_count": 995,
   "id": "294d60c3",
   "metadata": {},
   "outputs": [
    {
     "data": {
      "text/plain": [
       "10.0"
      ]
     },
     "execution_count": 995,
     "metadata": {},
     "output_type": "execute_result"
    }
   ],
   "source": [
    "from math import sqrt\n",
    "sqrt(100)"
   ]
  },
  {
   "cell_type": "code",
   "execution_count": 996,
   "id": "01ca3baf",
   "metadata": {},
   "outputs": [],
   "source": [
    "import numpy as np"
   ]
  },
  {
   "cell_type": "code",
   "execution_count": 997,
   "id": "b0e1851f",
   "metadata": {},
   "outputs": [
    {
     "data": {
      "text/plain": [
       "array([0, 1, 2, 3, 4, 5, 6, 7, 8, 9])"
      ]
     },
     "execution_count": 997,
     "metadata": {},
     "output_type": "execute_result"
    }
   ],
   "source": [
    "np.arange(10)"
   ]
  },
  {
   "cell_type": "code",
   "execution_count": 998,
   "id": "d88046d0",
   "metadata": {},
   "outputs": [],
   "source": [
    "import pandas as pd"
   ]
  },
  {
   "cell_type": "code",
   "execution_count": 999,
   "id": "745f9ee9",
   "metadata": {},
   "outputs": [
    {
     "data": {
      "text/plain": [
       "0    0\n",
       "1    1\n",
       "2    2\n",
       "3    3\n",
       "4    4\n",
       "dtype: int64"
      ]
     },
     "execution_count": 999,
     "metadata": {},
     "output_type": "execute_result"
    }
   ],
   "source": [
    "pd.Series((np.arange(5)))"
   ]
  },
  {
   "cell_type": "code",
   "execution_count": 1000,
   "id": "427c06dc",
   "metadata": {},
   "outputs": [],
   "source": [
    "# Import and test 3 of the functions from your functions exercise file. \n",
    "# Import each function in a different way:\n",
    "\n",
    "# Run an interactive python session and import the module. \n",
    "# Call the is_vowel function using the . syntax.\n",
    "\n",
    "import functions_exercises\n"
   ]
  },
  {
   "cell_type": "code",
   "execution_count": 1001,
   "id": "3c89788e",
   "metadata": {},
   "outputs": [
    {
     "data": {
      "text/plain": [
       "True"
      ]
     },
     "execution_count": 1001,
     "metadata": {},
     "output_type": "execute_result"
    }
   ],
   "source": [
    "functions_exercises.is_vowel('O')"
   ]
  },
  {
   "cell_type": "code",
   "execution_count": 1002,
   "id": "4d4426ad",
   "metadata": {},
   "outputs": [],
   "source": [
    "# Create a file named import_exericses.py. \n",
    "# Within this file, use from to import the calculate_tip function directly. \n",
    "# Call this function with values you choose and print the result."
   ]
  },
  {
   "cell_type": "code",
   "execution_count": 1003,
   "id": "3134c31e",
   "metadata": {},
   "outputs": [
    {
     "data": {
      "text/plain": [
       "'C'"
      ]
     },
     "execution_count": 1003,
     "metadata": {},
     "output_type": "execute_result"
    }
   ],
   "source": [
    "# Create a jupyter notebook named import_exercises.ipynb. \n",
    "# Use from to import the get_letter_grade function and give it an alias. \n",
    "# Test this function in your notebook.\n",
    "# Make sure your code that tests the function imports is run from the same directory \n",
    "# that your functions exercise file is in.\n",
    "\n",
    "from functions_exercises import get_letter_grade as lg\n",
    "\n",
    "lg(76)"
   ]
  },
  {
   "cell_type": "code",
   "execution_count": 1004,
   "id": "e3ebdf8b",
   "metadata": {},
   "outputs": [],
   "source": [
    "# Read about and use the itertools module from the python standard library to help you \n",
    "# solve the following problems:\n",
    "\n",
    "# How many different ways can you combine the letters from \"abc\" with the numbers 1, 2, and 3?\n",
    "# How many different combinations are there of 2 letters from \"abcd\"?\n",
    "# How many different permutations are there of 2 letters from \"abcd\"?\n",
    "\n",
    "import itertools"
   ]
  },
  {
   "cell_type": "code",
   "execution_count": 1005,
   "id": "63422676",
   "metadata": {},
   "outputs": [
    {
     "data": {
      "text/plain": [
       "[('a', 'b'),\n",
       " ('a', 'c'),\n",
       " ('a', 'd'),\n",
       " ('b', 'a'),\n",
       " ('b', 'c'),\n",
       " ('b', 'd'),\n",
       " ('c', 'a'),\n",
       " ('c', 'b'),\n",
       " ('c', 'd'),\n",
       " ('d', 'a'),\n",
       " ('d', 'b'),\n",
       " ('d', 'c')]"
      ]
     },
     "execution_count": 1005,
     "metadata": {},
     "output_type": "execute_result"
    }
   ],
   "source": [
    "list(itertools.permutations('abcd', 2))\n"
   ]
  },
  {
   "cell_type": "code",
   "execution_count": null,
   "id": "b1d5108e",
   "metadata": {},
   "outputs": [],
   "source": []
  },
  {
   "cell_type": "code",
   "execution_count": 1006,
   "id": "ef94a3ac",
   "metadata": {},
   "outputs": [],
   "source": [
    "import json\n"
   ]
  },
  {
   "cell_type": "code",
   "execution_count": 1007,
   "id": "b2ab1f41",
   "metadata": {},
   "outputs": [],
   "source": [
    "profiles = json.load(open('profiles.json'))\n"
   ]
  },
  {
   "cell_type": "code",
   "execution_count": 1008,
   "id": "d3695665",
   "metadata": {},
   "outputs": [],
   "source": [
    "# Using this data, write some code that calculates and outputs the following information:"
   ]
  },
  {
   "cell_type": "code",
   "execution_count": 1009,
   "id": "ce21e9c2",
   "metadata": {},
   "outputs": [
    {
     "data": {
      "text/plain": [
       "19"
      ]
     },
     "execution_count": 1009,
     "metadata": {},
     "output_type": "execute_result"
    }
   ],
   "source": [
    "# Total number of users\n",
    "\n",
    "len(profiles)"
   ]
  },
  {
   "cell_type": "code",
   "execution_count": 1010,
   "id": "968e6242",
   "metadata": {},
   "outputs": [],
   "source": [
    "# Number of active users\n",
    "\n",
    "def active_users(x):\n",
    "    total = 0\n",
    "    for i in x:\n",
    "        if (i['isActive']) == True:\n",
    "            total += 1\n",
    "    return total"
   ]
  },
  {
   "cell_type": "code",
   "execution_count": 1011,
   "id": "c6370b5b",
   "metadata": {},
   "outputs": [
    {
     "data": {
      "text/plain": [
       "9"
      ]
     },
     "execution_count": 1011,
     "metadata": {},
     "output_type": "execute_result"
    }
   ],
   "source": [
    "active_users(profiles)"
   ]
  },
  {
   "cell_type": "code",
   "execution_count": 1012,
   "id": "9e55ee61",
   "metadata": {},
   "outputs": [],
   "source": [
    "# Number of inactive users\n",
    "\n",
    "def inactive_users(x):\n",
    "    total = 0\n",
    "    for i in x:\n",
    "        if (i['isActive']) == False:\n",
    "            total += 1\n",
    "    return total"
   ]
  },
  {
   "cell_type": "code",
   "execution_count": 1013,
   "id": "2207550d",
   "metadata": {},
   "outputs": [
    {
     "data": {
      "text/plain": [
       "10"
      ]
     },
     "execution_count": 1013,
     "metadata": {},
     "output_type": "execute_result"
    }
   ],
   "source": [
    "inactive_users(profiles)"
   ]
  },
  {
   "cell_type": "code",
   "execution_count": 1014,
   "id": "c6201949",
   "metadata": {},
   "outputs": [],
   "source": [
    "# Grand total of balances for all users\n",
    "\n",
    "def balances(x):\n",
    "    sum_amt = 0\n",
    "    for i in x:\n",
    "        list_of_balances = []\n",
    "        balance = i['balance']\n",
    "        balance = balance.replace('$', '')\n",
    "        balance = balance.replace(',', '')\n",
    "        list_of_balances.append(float(balance))\n",
    "        for amt in list_of_balances:\n",
    "            sum_amt += amt\n",
    "    return sum_amt\n"
   ]
  },
  {
   "cell_type": "code",
   "execution_count": 1015,
   "id": "2f266755",
   "metadata": {},
   "outputs": [
    {
     "data": {
      "text/plain": [
       "52667.02"
      ]
     },
     "execution_count": 1015,
     "metadata": {},
     "output_type": "execute_result"
    }
   ],
   "source": [
    "balances(profiles)"
   ]
  },
  {
   "cell_type": "code",
   "execution_count": 1016,
   "id": "d6e8dba4",
   "metadata": {},
   "outputs": [
    {
     "data": {
      "text/plain": [
       "2771.95"
      ]
     },
     "execution_count": 1016,
     "metadata": {},
     "output_type": "execute_result"
    }
   ],
   "source": [
    "# Average balance per user\n",
    "\n",
    "round(total_balances(profiles) / len(profiles), 2)"
   ]
  },
  {
   "cell_type": "code",
   "execution_count": 1017,
   "id": "a4743b5c",
   "metadata": {},
   "outputs": [],
   "source": [
    "# User with the lowest balance\n",
    "list_of_balances = []\n",
    "def lowest_balance(x):\n",
    "    for i in x:\n",
    "        balance = i['balance']\n",
    "        balance = balance.replace('$', '')\n",
    "        balance = balance.replace(',', '')\n",
    "        balance = balance.replace('.', '')\n",
    "        list_of_balances.append(int(balance))\n",
    "        for i in list_of_balances:\n",
    "            min_balance = min(list_of_balances)\n",
    "    return round((min_balance / 100), 2)\n"
   ]
  },
  {
   "cell_type": "code",
   "execution_count": 1018,
   "id": "ae282828",
   "metadata": {},
   "outputs": [
    {
     "data": {
      "text/plain": [
       "1214.1"
      ]
     },
     "execution_count": 1018,
     "metadata": {},
     "output_type": "execute_result"
    }
   ],
   "source": [
    "lowest_balance(profiles)"
   ]
  },
  {
   "cell_type": "code",
   "execution_count": 1019,
   "id": "61a5ed4a",
   "metadata": {},
   "outputs": [],
   "source": [
    "# User with the highest balance\n",
    "\n",
    "def highest_balance(x):\n",
    "    max_balance = max(list_of_balances)\n",
    "    return round((max_balance / 100), 2)"
   ]
  },
  {
   "cell_type": "code",
   "execution_count": 1020,
   "id": "3ae8aec3",
   "metadata": {},
   "outputs": [
    {
     "data": {
      "text/plain": [
       "3919.64"
      ]
     },
     "execution_count": 1020,
     "metadata": {},
     "output_type": "execute_result"
    }
   ],
   "source": [
    "highest_balance(profiles)"
   ]
  },
  {
   "cell_type": "code",
   "execution_count": 1021,
   "id": "1a9a0a7e",
   "metadata": {},
   "outputs": [],
   "source": [
    "# Most common favorite fruit\n",
    "\n",
    "from collections import Counter\n",
    "fruits = []\n",
    "def most_fav_fruit(x):\n",
    "    for i in x:\n",
    "        fruit_type = i['favoriteFruit']\n",
    "        fruits.append(fruit_type)\n",
    "    return Counter(fruits).most_common(1)   "
   ]
  },
  {
   "cell_type": "code",
   "execution_count": 1022,
   "id": "b307fb44",
   "metadata": {},
   "outputs": [
    {
     "data": {
      "text/plain": [
       "[('strawberry', 9)]"
      ]
     },
     "execution_count": 1022,
     "metadata": {},
     "output_type": "execute_result"
    }
   ],
   "source": [
    "most_fav_fruit(profiles)"
   ]
  },
  {
   "cell_type": "code",
   "execution_count": 1023,
   "id": "fe3548bc",
   "metadata": {},
   "outputs": [],
   "source": [
    "# Least common favorite fruit\n",
    "\n",
    "least_common = []\n",
    "def least_fav_fruit(x):\n",
    "    for i in x:\n",
    "        fruit_type = i['favoriteFruit']\n",
    "        least_common.append(fruit_type)\n",
    "    return (Counter(least_common).most_common()[-1])\n",
    "        \n",
    "    "
   ]
  },
  {
   "cell_type": "code",
   "execution_count": 1024,
   "id": "df769177",
   "metadata": {},
   "outputs": [
    {
     "data": {
      "text/plain": [
       "('apple', 4)"
      ]
     },
     "execution_count": 1024,
     "metadata": {},
     "output_type": "execute_result"
    }
   ],
   "source": [
    "least_fav_fruit(profiles)"
   ]
  },
  {
   "cell_type": "code",
   "execution_count": 1149,
   "id": "40e662ea",
   "metadata": {},
   "outputs": [],
   "source": [
    "# Total number of unread messages for all users\n",
    "\n",
    "message_count = []\n",
    "message_total = []\n",
    "def total_unread_messages(x):\n",
    "    for i in x:\n",
    "        messages = i['greeting']\n",
    "        message_count.append([int(s) for s in messages.split() if s.isdigit()]) \n",
    "        \n",
    "    #print(message_count)\n",
    "    for item in message_count:    \n",
    "        for number in item:\n",
    "            message_total.append(number)\n",
    "            \n",
    "    return sum(message_total)\n"
   ]
  },
  {
   "cell_type": "code",
   "execution_count": 1150,
   "id": "99787b12",
   "metadata": {},
   "outputs": [
    {
     "data": {
      "text/plain": [
       "210"
      ]
     },
     "execution_count": 1150,
     "metadata": {},
     "output_type": "execute_result"
    }
   ],
   "source": [
    "total_unread_messages(profiles)"
   ]
  },
  {
   "cell_type": "code",
   "execution_count": null,
   "id": "84e7b138",
   "metadata": {},
   "outputs": [],
   "source": []
  }
 ],
 "metadata": {
  "kernelspec": {
   "display_name": "Python 3 (ipykernel)",
   "language": "python",
   "name": "python3"
  },
  "language_info": {
   "codemirror_mode": {
    "name": "ipython",
    "version": 3
   },
   "file_extension": ".py",
   "mimetype": "text/x-python",
   "name": "python",
   "nbconvert_exporter": "python",
   "pygments_lexer": "ipython3",
   "version": "3.9.12"
  }
 },
 "nbformat": 4,
 "nbformat_minor": 5
}
