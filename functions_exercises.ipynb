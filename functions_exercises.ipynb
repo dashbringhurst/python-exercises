{
 "cells": [
  {
   "cell_type": "code",
   "execution_count": 1,
   "id": "683c8e02",
   "metadata": {},
   "outputs": [],
   "source": [
    "# Define a function named is_two. It should accept one input and return True if the passed \n",
    "# input is either the number or the string 2, False otherwise.\n",
    "\n",
    "def is_two(x):\n",
    "    if x == 2 or x == '2':\n",
    "        return True\n",
    "    else:\n",
    "        return False\n"
   ]
  },
  {
   "cell_type": "code",
   "execution_count": 9,
   "id": "b313b816",
   "metadata": {},
   "outputs": [
    {
     "data": {
      "text/plain": [
       "False"
      ]
     },
     "execution_count": 9,
     "metadata": {},
     "output_type": "execute_result"
    }
   ],
   "source": [
    "is_two('e')"
   ]
  },
  {
   "cell_type": "code",
   "execution_count": 10,
   "id": "f1a53861",
   "metadata": {},
   "outputs": [
    {
     "data": {
      "text/plain": [
       "True"
      ]
     },
     "execution_count": 10,
     "metadata": {},
     "output_type": "execute_result"
    }
   ],
   "source": [
    "is_two('2')"
   ]
  },
  {
   "cell_type": "code",
   "execution_count": 167,
   "id": "a23d3043",
   "metadata": {},
   "outputs": [],
   "source": [
    "# Define a function named is_vowel. \n",
    "# It should return True if the passed string is a vowel, False otherwise.\n",
    "vowels = 'aeiouAEIOU'\n",
    "def is_vowel(x):\n",
    "    for item in x:\n",
    "        if item in vowels:\n",
    "            return True\n",
    "        else:\n",
    "            return False\n",
    "    "
   ]
  },
  {
   "cell_type": "code",
   "execution_count": 168,
   "id": "330059f7",
   "metadata": {},
   "outputs": [
    {
     "data": {
      "text/plain": [
       "False"
      ]
     },
     "execution_count": 168,
     "metadata": {},
     "output_type": "execute_result"
    }
   ],
   "source": [
    "is_vowel('f')"
   ]
  },
  {
   "cell_type": "code",
   "execution_count": 169,
   "id": "b7bcd3c4",
   "metadata": {},
   "outputs": [
    {
     "data": {
      "text/plain": [
       "True"
      ]
     },
     "execution_count": 169,
     "metadata": {},
     "output_type": "execute_result"
    }
   ],
   "source": [
    "is_vowel('e')"
   ]
  },
  {
   "cell_type": "code",
   "execution_count": 185,
   "id": "1c89b9ac",
   "metadata": {},
   "outputs": [],
   "source": [
    "# Define a function named is_consonant. It should return True if the passed string is \n",
    "# a consonant, False otherwise. Use your is_vowel function to accomplish this.\n",
    "\n",
    "def is_consonant(x):\n",
    "    for item in x:\n",
    "        if is_vowel(x) == False: \n",
    "            return True\n",
    "        else:\n",
    "            return False"
   ]
  },
  {
   "cell_type": "code",
   "execution_count": 186,
   "id": "2f7d8bcd",
   "metadata": {},
   "outputs": [
    {
     "data": {
      "text/plain": [
       "False"
      ]
     },
     "execution_count": 186,
     "metadata": {},
     "output_type": "execute_result"
    }
   ],
   "source": [
    "is_consonant('i')"
   ]
  },
  {
   "cell_type": "code",
   "execution_count": 187,
   "id": "40f56e67",
   "metadata": {},
   "outputs": [
    {
     "data": {
      "text/plain": [
       "True"
      ]
     },
     "execution_count": 187,
     "metadata": {},
     "output_type": "execute_result"
    }
   ],
   "source": [
    "is_consonant('h')"
   ]
  },
  {
   "cell_type": "code",
   "execution_count": 350,
   "id": "86ed00cb",
   "metadata": {},
   "outputs": [],
   "source": [
    "# Define a function that accepts a string that is a word. The function should capitalize \n",
    "# the first letter of the word if the word starts with a consonant.\n",
    "\n",
    "def capitalize_word(x):\n",
    "    return x.capitalize()"
   ]
  },
  {
   "cell_type": "code",
   "execution_count": 351,
   "id": "f94afa20",
   "metadata": {},
   "outputs": [
    {
     "data": {
      "text/plain": [
       "'Jojojo'"
      ]
     },
     "execution_count": 351,
     "metadata": {},
     "output_type": "execute_result"
    }
   ],
   "source": [
    "capitalize_word('jojojo')"
   ]
  },
  {
   "cell_type": "code",
   "execution_count": 112,
   "id": "9bc2f9aa",
   "metadata": {},
   "outputs": [],
   "source": [
    "# Define a function named calculate_tip. It should accept a tip percentage \n",
    "# (a number between 0 and 1) and the bill total, and return the amount to tip.\n",
    "\n",
    "def calculate_tip(p, b):\n",
    "    tip = p * b\n",
    "    return round(tip, 2)\n"
   ]
  },
  {
   "cell_type": "code",
   "execution_count": 117,
   "id": "7b265796",
   "metadata": {},
   "outputs": [
    {
     "data": {
      "text/plain": [
       "3.21"
      ]
     },
     "execution_count": 117,
     "metadata": {},
     "output_type": "execute_result"
    }
   ],
   "source": [
    "calculate_tip(.12, 26.76)"
   ]
  },
  {
   "cell_type": "code",
   "execution_count": 89,
   "id": "e2ea5a5e",
   "metadata": {},
   "outputs": [],
   "source": [
    "# Define a function named apply_discount. It should accept a original price, \n",
    "# and a discount percentage, and return the price after the discount is applied.\n",
    "\n",
    "def apply_discount(x, y):\n",
    "    discount_price = x - (x * (y / 100))\n",
    "    return round(discount_price, 2)"
   ]
  },
  {
   "cell_type": "code",
   "execution_count": 90,
   "id": "6e4c44bf",
   "metadata": {},
   "outputs": [
    {
     "data": {
      "text/plain": [
       "160.65"
      ]
     },
     "execution_count": 90,
     "metadata": {},
     "output_type": "execute_result"
    }
   ],
   "source": [
    "apply_discount(178.50, 10)"
   ]
  },
  {
   "cell_type": "code",
   "execution_count": 293,
   "id": "6cfc578e",
   "metadata": {},
   "outputs": [],
   "source": [
    "# Define a function named handle_commas. It should accept a string that is a number \n",
    "# that contains commas in it as input, and return a number as output.\n",
    "\n",
    "def handle_commas(string):\n",
    "    for character in ',':\n",
    "        string = string.replace(character, '')\n",
    "    return string\n",
    "   "
   ]
  },
  {
   "cell_type": "code",
   "execution_count": 295,
   "id": "b6bde24f",
   "metadata": {},
   "outputs": [
    {
     "data": {
      "text/plain": [
       "'4000'"
      ]
     },
     "execution_count": 295,
     "metadata": {},
     "output_type": "execute_result"
    }
   ],
   "source": [
    "handle_commas('4,000')"
   ]
  },
  {
   "cell_type": "code",
   "execution_count": 154,
   "id": "5e29b7be",
   "metadata": {},
   "outputs": [],
   "source": [
    "# Define a function named get_letter_grade. It should accept a number and return the \n",
    "# letter grade associated with that number (A-F).\n",
    "\n",
    "def get_letter_grade(x):\n",
    "    if x >= 90:\n",
    "        return 'A'\n",
    "    if x >= 80:\n",
    "        return 'B'\n",
    "    if x >= 70:\n",
    "        return 'C'\n",
    "    if x >= 60:\n",
    "        return 'D'\n",
    "    return 'F'"
   ]
  },
  {
   "cell_type": "code",
   "execution_count": 159,
   "id": "be253728",
   "metadata": {},
   "outputs": [
    {
     "data": {
      "text/plain": [
       "'D'"
      ]
     },
     "execution_count": 159,
     "metadata": {},
     "output_type": "execute_result"
    }
   ],
   "source": [
    "get_letter_grade(65)"
   ]
  },
  {
   "cell_type": "code",
   "execution_count": 307,
   "id": "d7646003",
   "metadata": {},
   "outputs": [],
   "source": [
    "# Define a function named remove_vowels that accepts a string and returns a string \n",
    "# with all the vowels removed.\n",
    "\n",
    "def remove_vowels(string):\n",
    "    vowels = 'aeiouAEIOU'\n",
    "    for item in string:\n",
    "        if item == item in vowels:\n",
    "            string = string.replace(item, '')\n",
    "    return string"
   ]
  },
  {
   "cell_type": "code",
   "execution_count": 308,
   "id": "67b7dc02",
   "metadata": {},
   "outputs": [
    {
     "data": {
      "text/plain": [
       "'gnrnnr'"
      ]
     },
     "execution_count": 308,
     "metadata": {},
     "output_type": "execute_result"
    }
   ],
   "source": [
    "remove_vowels('gunrunner')"
   ]
  },
  {
   "cell_type": "code",
   "execution_count": 385,
   "id": "bcd8d01f",
   "metadata": {},
   "outputs": [],
   "source": [
    "# Define a function named normalize_name. It should accept a string and return a valid \n",
    "# python identifier, that is:\n",
    "# anything that is not a valid python identifier should be removed\n",
    "# leading and trailing whitespace should be removed\n",
    "# everything should be lowercase\n",
    "# spaces should be replaced with underscores\n",
    "# for example:\n",
    "# Name will become name\n",
    "# First Name will become first_name\n",
    "# % Completed will become completed\n",
    "\n",
    "def normalize_name(string):\n",
    "    string = string.strip()\n",
    "    string = string.lower()\n",
    "    string = string.replace(' ', '_')\n",
    "    forbidden_chars = '!@#$%^&*()-+{}[]\\|;:\\'\\\"/?.><,`~\\\\'\n",
    "    for item in string:\n",
    "        if item in forbidden_chars:\n",
    "            string = string.replace(item, '')\n",
    "    return string\n",
    "    "
   ]
  },
  {
   "cell_type": "code",
   "execution_count": 387,
   "id": "be6e4e14",
   "metadata": {},
   "outputs": [
    {
     "data": {
      "text/plain": [
       "'howdy_ho_'"
      ]
     },
     "execution_count": 387,
     "metadata": {},
     "output_type": "execute_result"
    }
   ],
   "source": [
    "normalize_name(' How%dy Ho ! ')"
   ]
  },
  {
   "cell_type": "code",
   "execution_count": 441,
   "id": "d5dd3b71",
   "metadata": {},
   "outputs": [],
   "source": [
    "# Write a function named cumulative_sum that accepts a list of numbers and returns \n",
    "# a list that is the cumulative sum of the numbers in the list.\n",
    "# cumulative_sum([1, 1, 1]) returns [1, 2, 3]\n",
    "# cumulative_sum([1, 2, 3, 4]) returns [1, 3, 6, 10]\n",
    "\n",
    "def cumulative_sum(x):\n",
    "    cumulative_list = []\n",
    "    csum = 0\n",
    "    for number in x:\n",
    "        csum += number\n",
    "        cumulative_list.append(csum)\n",
    "    return cumulative_list\n",
    "        "
   ]
  },
  {
   "cell_type": "code",
   "execution_count": 442,
   "id": "54afa1f6",
   "metadata": {},
   "outputs": [
    {
     "data": {
      "text/plain": [
       "[1, 3, 6, 10]"
      ]
     },
     "execution_count": 442,
     "metadata": {},
     "output_type": "execute_result"
    }
   ],
   "source": [
    "cumulative_sum([1, 2, 3, 4])"
   ]
  },
  {
   "cell_type": "code",
   "execution_count": null,
   "id": "c5e30f9f",
   "metadata": {},
   "outputs": [],
   "source": [
    "# Once you've completed the above exercises, follow the directions from \n",
    "# https://gist.github.com/zgulde/ec8ed80ad8216905cda83d5645c60886 \n",
    "# in order to thouroughly comment your code to explain your code."
   ]
  },
  {
   "cell_type": "code",
   "execution_count": null,
   "id": "2ae7a3b7",
   "metadata": {},
   "outputs": [],
   "source": [
    "# Create a function named twelveto24. It should accept a string in the format \n",
    "# 10:45am or 4:30pm and return a string that is the representation of the time \n",
    "# in a 24-hour format. Bonus write a function that does the opposite.\n",
    "\n",
    "def twelveto24(string):\n",
    "        "
   ]
  },
  {
   "cell_type": "code",
   "execution_count": null,
   "id": "ceaf5b06",
   "metadata": {},
   "outputs": [],
   "source": [
    "twelveto24('12:00pm')"
   ]
  },
  {
   "cell_type": "code",
   "execution_count": null,
   "id": "35eb6283",
   "metadata": {},
   "outputs": [],
   "source": [
    "# Create a function named col_index. It should accept a spreadsheet column name, \n",
    "# and return the index number of the column.\n",
    "# col_index('A') returns 1\n",
    "# col_index('B') returns 2\n",
    "# col_index('AA') returns 27"
   ]
  }
 ],
 "metadata": {
  "kernelspec": {
   "display_name": "Python 3 (ipykernel)",
   "language": "python",
   "name": "python3"
  },
  "language_info": {
   "codemirror_mode": {
    "name": "ipython",
    "version": 3
   },
   "file_extension": ".py",
   "mimetype": "text/x-python",
   "name": "python",
   "nbconvert_exporter": "python",
   "pygments_lexer": "ipython3",
   "version": "3.9.12"
  }
 },
 "nbformat": 4,
 "nbformat_minor": 5
}
