{
 "cells": [
  {
   "cell_type": "code",
   "execution_count": 3,
   "id": "9afbfc96",
   "metadata": {},
   "outputs": [],
   "source": [
    "# Define a function named is_two. It should accept one input and return True if the passed \n",
    "# input is either the number or the string 2, False otherwise.\n",
    "\n",
    "# is_two is a single parameter function that returns a boolean \n",
    "def is_two(x):\n",
    "    # conditional for the integer 2 OR the string '2' \n",
    "    if x == 2 or x == '2':\n",
    "    # if argument passes conditional statement, return True\n",
    "        return True\n",
    "    # all other values return false\n",
    "    else:\n",
    "        return False\n"
   ]
  },
  {
   "cell_type": "markdown",
   "id": "e191b127",
   "metadata": {},
   "source": [
    "When the string 'e' is entered into the is_two(x) function, it is evaluated against the conditions provided in the if statement. Since e is not equal to the integer 2 or the string '2', the function returns False."
   ]
  },
  {
   "cell_type": "code",
   "execution_count": 4,
   "id": "05c67932",
   "metadata": {},
   "outputs": [
    {
     "data": {
      "text/plain": [
       "False"
      ]
     },
     "execution_count": 4,
     "metadata": {},
     "output_type": "execute_result"
    }
   ],
   "source": [
    "is_two('e')"
   ]
  },
  {
   "cell_type": "markdown",
   "id": "8da5f1a7",
   "metadata": {},
   "source": [
    "When the string '2' is entered into the function, it passes one of the conditions and returns True."
   ]
  },
  {
   "cell_type": "code",
   "execution_count": 5,
   "id": "6db9b28d",
   "metadata": {},
   "outputs": [
    {
     "data": {
      "text/plain": [
       "True"
      ]
     },
     "execution_count": 5,
     "metadata": {},
     "output_type": "execute_result"
    }
   ],
   "source": [
    "is_two('2')"
   ]
  },
  {
   "cell_type": "code",
   "execution_count": 6,
   "id": "d94e36b0",
   "metadata": {},
   "outputs": [],
   "source": [
    "# Define a function named is_vowel. \n",
    "# It should return True if the passed string is a vowel, False otherwise.\n",
    "\n",
    "# the variable vowels contains a string of all vowels, both upper and lower case, which is\n",
    "# converted to a list.\n",
    "\n",
    "vowels = list('aeiouAEIOU')\n",
    "# the is_vowel function takes one parameter, a string, and returns a boolean indicating whether\n",
    "# or not the string is a single vowel.\n",
    "def is_vowel(x):\n",
    "    # check if the argument appears in the variable vowels\n",
    "    if x in vowels:\n",
    "    # passes check\n",
    "        return True\n",
    "    # fails check; this includes values of more than one letter in a string\n",
    "    else:\n",
    "        return False\n",
    "    "
   ]
  },
  {
   "cell_type": "markdown",
   "id": "94513a64",
   "metadata": {},
   "source": [
    "The following passes show that strings of more than one letter, even if containing a vowel, will return False. The string 'ae', which is in 'aeiouAEIOU', will also fail because the string of vowels has been converted to a list. A single vowel, whether upper or lower case, will return True."
   ]
  },
  {
   "cell_type": "code",
   "execution_count": 7,
   "id": "d4a00740",
   "metadata": {},
   "outputs": [
    {
     "data": {
      "text/plain": [
       "False"
      ]
     },
     "execution_count": 7,
     "metadata": {},
     "output_type": "execute_result"
    }
   ],
   "source": [
    "is_vowel('ef')"
   ]
  },
  {
   "cell_type": "code",
   "execution_count": 8,
   "id": "fe05f584",
   "metadata": {},
   "outputs": [
    {
     "data": {
      "text/plain": [
       "False"
      ]
     },
     "execution_count": 8,
     "metadata": {},
     "output_type": "execute_result"
    }
   ],
   "source": [
    "is_vowel('ae')"
   ]
  },
  {
   "cell_type": "code",
   "execution_count": 9,
   "id": "667e2375",
   "metadata": {},
   "outputs": [
    {
     "data": {
      "text/plain": [
       "True"
      ]
     },
     "execution_count": 9,
     "metadata": {},
     "output_type": "execute_result"
    }
   ],
   "source": [
    "is_vowel('I')"
   ]
  },
  {
   "cell_type": "code",
   "execution_count": 10,
   "id": "c0d98db1",
   "metadata": {},
   "outputs": [],
   "source": [
    "# Define a function named is_consonant. It should return True if the passed string is \n",
    "# a consonant, False otherwise. Use your is_vowel function to accomplish this.\n",
    "\n",
    "# The function is_consonant uses the function is_vowel in order to determine whether a single\n",
    "# parameter, a string, is a consonant. It returns a boolean of True or False.\n",
    "def is_consonant(x):\n",
    "    # using the is_vowel function to check if the argument is a vowel; if not, it is a\n",
    "    # consonant and returns True.\n",
    "    if is_vowel(x) == False: \n",
    "        return True\n",
    "    else:\n",
    "        return False"
   ]
  },
  {
   "cell_type": "code",
   "execution_count": 11,
   "id": "73db956c",
   "metadata": {},
   "outputs": [
    {
     "data": {
      "text/plain": [
       "False"
      ]
     },
     "execution_count": 11,
     "metadata": {},
     "output_type": "execute_result"
    }
   ],
   "source": [
    "is_consonant('i')"
   ]
  },
  {
   "cell_type": "code",
   "execution_count": 52,
   "id": "c67b2403",
   "metadata": {},
   "outputs": [
    {
     "data": {
      "text/plain": [
       "True"
      ]
     },
     "execution_count": 52,
     "metadata": {},
     "output_type": "execute_result"
    }
   ],
   "source": [
    "is_consonant('q')"
   ]
  },
  {
   "cell_type": "code",
   "execution_count": 1,
   "id": "980247d0",
   "metadata": {},
   "outputs": [],
   "source": [
    "# Define a function that accepts a string that is a word. The function should capitalize \n",
    "# the first letter of the word if the word starts with a consonant.\n",
    "\n",
    "# This function takes in a string and capitalizes the first letter if it is a consonant.\n",
    "def capitalize_word(x):\n",
    "    # Begin loop in order to check individual letters in the string\n",
    "    for letter in x:\n",
    "    # using the is_consonant function to check the first letter\n",
    "        if is_consonant(letter) == True:\n",
    "    # takes the argument and capitalizes the first letter using .capitalize method\n",
    "            return x.capitalize()\n",
    "        else:\n",
    "            return x"
   ]
  },
  {
   "cell_type": "code",
   "execution_count": 78,
   "id": "ae781e24",
   "metadata": {},
   "outputs": [
    {
     "data": {
      "text/plain": [
       "'Hurrah'"
      ]
     },
     "execution_count": 78,
     "metadata": {},
     "output_type": "execute_result"
    }
   ],
   "source": [
    "capitalize_word('hurrah')"
   ]
  },
  {
   "cell_type": "code",
   "execution_count": 79,
   "id": "a23626f5",
   "metadata": {},
   "outputs": [],
   "source": [
    "# Define a function named calculate_tip. It should accept a tip percentage \n",
    "# (a number between 0 and 1) and the bill total, and return the amount to tip.\n",
    "\n",
    "# This function takes two parameters, p: a float between 0 and 1 indicating the percentage\n",
    "# to tip, and b: the bill amount which is also a float, and returns the amount to tip rounded\n",
    "# to two decimal places.\n",
    "\n",
    "def calculate_tip(p, b):\n",
    "    # multiply the two arguments\n",
    "    tip = p * b\n",
    "    # return the product rounded to two decimal places\n",
    "    return round(tip, 2)\n"
   ]
  },
  {
   "cell_type": "markdown",
   "id": "da0e2b71",
   "metadata": {},
   "source": [
    "The values .12 and 26.76 are passed through the function as variables p and b. For a bill total of 26.76, if the customer wants to leave a 12 percent tip, the function will return the appropriate tip amount, in this case 3.21."
   ]
  },
  {
   "cell_type": "code",
   "execution_count": 80,
   "id": "b3c2970c",
   "metadata": {},
   "outputs": [
    {
     "data": {
      "text/plain": [
       "3.21"
      ]
     },
     "execution_count": 80,
     "metadata": {},
     "output_type": "execute_result"
    }
   ],
   "source": [
    "calculate_tip(.12, 26.76)"
   ]
  },
  {
   "cell_type": "code",
   "execution_count": 81,
   "id": "874c40ce",
   "metadata": {},
   "outputs": [],
   "source": [
    "# Define a function named apply_discount. It should accept a original price, \n",
    "# and a discount percentage, and return the price after the discount is applied.\n",
    "\n",
    "# The function apply_discount takes two parameters, x for the original price of an item, and\n",
    "# y for the discount percentage from 1 to 100.\n",
    "\n",
    "def apply_discount(x, y):\n",
    "    # the discount_price variable is the result of original price minus the orignal price\n",
    "    # times the discount percentage divided by 100.\n",
    "    discount_price = x - (x * (y / 100))\n",
    "    # discount price is rounded to two decimal places\n",
    "    return round(discount_price, 2)"
   ]
  },
  {
   "cell_type": "code",
   "execution_count": 82,
   "id": "0e41a926",
   "metadata": {},
   "outputs": [
    {
     "data": {
      "text/plain": [
       "160.65"
      ]
     },
     "execution_count": 82,
     "metadata": {},
     "output_type": "execute_result"
    }
   ],
   "source": [
    "apply_discount(178.50, 10)"
   ]
  },
  {
   "cell_type": "code",
   "execution_count": 83,
   "id": "677358fa",
   "metadata": {},
   "outputs": [],
   "source": [
    "# Define a function named handle_commas. It should accept a string that is a number \n",
    "# that contains commas in it as input, and return a number as output.\n",
    "\n",
    "# This function will take a string number and remove the commas. It returns a number in int\n",
    "# format.\n",
    "def handle_commas(string):\n",
    "    # Loop will evaluate each character and find the commas\n",
    "    for character in ',':\n",
    "    # Variable is reassigned with the commas taken out using .replace method with an empty string.\n",
    "        string = string.replace(character, '')\n",
    "    # string is returned as a number\n",
    "    return int(string)\n",
    "   "
   ]
  },
  {
   "cell_type": "code",
   "execution_count": 84,
   "id": "33db0279",
   "metadata": {},
   "outputs": [
    {
     "data": {
      "text/plain": [
       "4000"
      ]
     },
     "execution_count": 84,
     "metadata": {},
     "output_type": "execute_result"
    }
   ],
   "source": [
    "handle_commas('4,0,0,0')"
   ]
  },
  {
   "cell_type": "code",
   "execution_count": 85,
   "id": "5a28c7d6",
   "metadata": {},
   "outputs": [],
   "source": [
    "# Define a function named get_letter_grade. It should accept a number and return the \n",
    "# letter grade associated with that number (A-F).\n",
    "\n",
    "# The function has a single parameter, a number, and evaluates which letter grade to return.\n",
    "# It returns a string, a letter from A to F.\n",
    "def get_letter_grade(x):\n",
    "    # function tests argument starting with the highest grade assignment\n",
    "    if x >= 90:\n",
    "        return 'A'\n",
    "    # if condition does not fit first condition, the argument continues through the other\n",
    "    # conditional statements\n",
    "    elif x >= 80:\n",
    "        return 'B'\n",
    "    elif x >= 70:\n",
    "        return 'C'\n",
    "    elif x >= 60:\n",
    "        return 'D'\n",
    "    # if the argument does not fit any of the above conditions, an F is returned.\n",
    "    return 'F'"
   ]
  },
  {
   "cell_type": "code",
   "execution_count": 86,
   "id": "3ea6df38",
   "metadata": {},
   "outputs": [
    {
     "data": {
      "text/plain": [
       "'D'"
      ]
     },
     "execution_count": 86,
     "metadata": {},
     "output_type": "execute_result"
    }
   ],
   "source": [
    "get_letter_grade(65)"
   ]
  },
  {
   "cell_type": "code",
   "execution_count": 87,
   "id": "58e0c56a",
   "metadata": {},
   "outputs": [],
   "source": [
    "# Define a function named remove_vowels that accepts a string and returns a string \n",
    "# with all the vowels removed.\n",
    "\n",
    "# The function remove_vowels takes in a string and evaluates each character in the string\n",
    "# for vowels. If a vowel is present, it is removed from the string. The string is returned\n",
    "# without vowels.\n",
    "def remove_vowels(string):\n",
    "    # The variable vowels contains a single string of all upper and lower case vowels.\n",
    "    vowels = 'aeiouAEIOU'\n",
    "    # Loop checks each item in the string for vowels.\n",
    "    for item in string:\n",
    "        if item == item in vowels:\n",
    "    # Replace the vowels with an empty string, which will remove the character.        \n",
    "            string = string.replace(item, '')\n",
    "    return string"
   ]
  },
  {
   "cell_type": "code",
   "execution_count": 88,
   "id": "a3a58762",
   "metadata": {},
   "outputs": [
    {
     "data": {
      "text/plain": [
       "'gnrnnr'"
      ]
     },
     "execution_count": 88,
     "metadata": {},
     "output_type": "execute_result"
    }
   ],
   "source": [
    "remove_vowels('gunrunner')"
   ]
  },
  {
   "cell_type": "code",
   "execution_count": 89,
   "id": "24f1614c",
   "metadata": {},
   "outputs": [],
   "source": [
    "# Define a function named normalize_name. It should accept a string and return a valid \n",
    "# python identifier, that is:\n",
    "# anything that is not a valid python identifier should be removed\n",
    "# leading and trailing whitespace should be removed\n",
    "# everything should be lowercase\n",
    "# spaces should be replaced with underscores\n",
    "# for example:\n",
    "# Name will become name\n",
    "# First Name will become first_name\n",
    "# % Completed will become completed\n",
    "\n",
    "\n",
    "# The function normalize_name takes in a string and returns the string in python identifier\n",
    "# format. \n",
    "def normalize_name(string):\n",
    "    # This variable contains the characters that are not allowed in the string.\n",
    "    forbidden_chars = '!@#$%^&*()-+{}[]\\|;:\\'\\\"/?.><,`~\\\\'\n",
    "    # Loop checks each character in the string.\n",
    "    for item in string:\n",
    "    # Non-alphanumeric characters are removed    \n",
    "        if item in forbidden_chars:\n",
    "            string = string.replace(item, '')\n",
    "    # White spaces removed from the beginning and end of string\n",
    "    string = string.strip()\n",
    "    # letters are made all lowercase\n",
    "    string = string.lower()\n",
    "    # spaces between characters are replaced with underscores\n",
    "    string = string.replace(' ', '_')\n",
    "    return string\n",
    "    "
   ]
  },
  {
   "cell_type": "code",
   "execution_count": 90,
   "id": "12414fb4",
   "metadata": {},
   "outputs": [
    {
     "data": {
      "text/plain": [
       "'howdy_ho'"
      ]
     },
     "execution_count": 90,
     "metadata": {},
     "output_type": "execute_result"
    }
   ],
   "source": [
    "normalize_name(' How%dy Ho ! ')"
   ]
  },
  {
   "cell_type": "code",
   "execution_count": 91,
   "id": "8f585b67",
   "metadata": {},
   "outputs": [],
   "source": [
    "# Write a function named cumulative_sum that accepts a list of numbers and returns \n",
    "# a list that is the cumulative sum of the numbers in the list.\n",
    "# cumulative_sum([1, 1, 1]) returns [1, 2, 3]\n",
    "# cumulative_sum([1, 2, 3, 4]) returns [1, 3, 6, 10]\n",
    "\n",
    "# The function cumulative_sum takes in a list of numbers and returns the cumulative sum.\n",
    "def cumulative_sum(x):\n",
    "    # empty list created for the cumulative sum list\n",
    "    cumulative_list = []\n",
    "    # initial sum set to 0\n",
    "    csum = 0\n",
    "    # Loop goes through each number in the list an adds the number to the csum variable\n",
    "    for number in x:\n",
    "        csum += number\n",
    "    # The sums of the loop are added to the previously created cumulative_list\n",
    "        cumulative_list.append(csum)\n",
    "    return cumulative_list\n",
    "        "
   ]
  },
  {
   "cell_type": "code",
   "execution_count": 92,
   "id": "693001a0",
   "metadata": {},
   "outputs": [
    {
     "data": {
      "text/plain": [
       "[1, 3, 6, 10]"
      ]
     },
     "execution_count": 92,
     "metadata": {},
     "output_type": "execute_result"
    }
   ],
   "source": [
    "cumulative_sum([1, 2, 3, 4])"
   ]
  },
  {
   "cell_type": "markdown",
   "id": "59c96d4a",
   "metadata": {},
   "source": [
    "Once you've completed the above exercises, follow the directions from https://gist.github.com/zgulde/ec8ed80ad8216905cda83d5645c60886 in order to thouroughly comment your code to explain your code."
   ]
  },
  {
   "cell_type": "code",
   "execution_count": 348,
   "id": "b4c14542",
   "metadata": {},
   "outputs": [],
   "source": [
    "# Create a function named twelveto24. It should accept a string in the format \n",
    "# 10:45am or 4:30pm and return a string that is the representation of the time \n",
    "# in a 24-hour format. Bonus write a function that does the opposite.\n",
    "\n",
    "# This function takes in one parameter, a string indicating time in 12-hour format. The \n",
    "# function adjusts the time to 24-hour format.\n",
    "def twelveto24(string):\n",
    "    # First check is for time greater than 9 (two digits) and if the time is pm\n",
    "    if string[0:2].isdigit() and 'pm' in string:\n",
    "    # Colon is removed from string    \n",
    "        string = string.replace(':', '')\n",
    "    # the variable hour takes the first two characters, turns them into numbers, and adds 12\n",
    "        hour = (int(string[0:2]) + 12)\n",
    "    # to account for midnight, the number 24 is replaced with the string '00'    \n",
    "        if hour == 24:\n",
    "            hour = '00'\n",
    "    # the new variable hour replaces the first two digits in the original string with the \n",
    "    # adjusted time as a string\n",
    "        string = string.replace(string[0:2],str(hour))\n",
    "    # pm is removed from the string    \n",
    "        string = string.replace('pm', '')\n",
    "    # second check is for times less than 10 (one digit) and if the time is pm\n",
    "    elif string[0:1].isdigit() and 'pm' in string:\n",
    "    # string is converted to number and adds 12    \n",
    "        hour = (int(string[0:1]) + 12)\n",
    "    # the hour variable is converted back to a string and replaces the original first digit\n",
    "        string = string.replace(string[0:1],str(hour))\n",
    "    # pm and colon are removed from the string    \n",
    "        string = string.replace('pm', '')\n",
    "        string = string.replace(':', '')\n",
    "    else:\n",
    "    # if the other conditions are not met, the string is adjusted to 24-hour time\n",
    "        hour = int(string[0:1])\n",
    "    # times less than ten get a '0' added to the front to more accurately depict 24-hour time    \n",
    "        if hour < 10:\n",
    "            hour = '0' + (str(hour))\n",
    "    # new string of time replaces the old string and other characters are removed\n",
    "        string = string.replace(string[0:1],str(hour))\n",
    "        string = string.replace('pm', '')\n",
    "        string = string.replace(':', '')\n",
    "        string = string.replace('am', '')\n",
    "    # returns time as a string in 24-hour format\n",
    "    return string\n",
    "       "
   ]
  },
  {
   "cell_type": "markdown",
   "id": "916119c6",
   "metadata": {},
   "source": [
    "This function has repeated instructions and can be cleaned further."
   ]
  },
  {
   "cell_type": "code",
   "execution_count": 349,
   "id": "11b433a8",
   "metadata": {},
   "outputs": [
    {
     "data": {
      "text/plain": [
       "'0134'"
      ]
     },
     "execution_count": 349,
     "metadata": {},
     "output_type": "execute_result"
    }
   ],
   "source": [
    "twelveto24('1:34am')"
   ]
  },
  {
   "cell_type": "code",
   "execution_count": 350,
   "id": "10557aac",
   "metadata": {},
   "outputs": [
    {
     "data": {
      "text/plain": [
       "'2334'"
      ]
     },
     "execution_count": 350,
     "metadata": {},
     "output_type": "execute_result"
    }
   ],
   "source": [
    "twelveto24('11:34pm')"
   ]
  },
  {
   "cell_type": "code",
   "execution_count": 385,
   "id": "0755082e",
   "metadata": {},
   "outputs": [],
   "source": [
    "# Create a function named col_index. It should accept a spreadsheet column name, \n",
    "# and return the index number of the column.\n",
    "# col_index('A') returns 1\n",
    "# col_index('B') returns 2\n",
    "# col_index('AA') returns 27\n",
    "\n",
    "# The function col_index takes in string representing a column and returns the index.\n",
    "def col_index(x):\n",
    "    for item in x:\n",
    "    # if the string is only one character (A-Z), the function returns the unicode for that\n",
    "    # character minus 64. A is 65, so subtracting 64 puts A at index 1.\n",
    "        if len(x) == 1:\n",
    "            item = ord(x) - 64\n",
    "    # if the string is two characters, the function returns the unicode of the second character\n",
    "    # minus 38 (the count will start at 27 for AA)\n",
    "        if len(x) != 1:\n",
    "            i = x[0]\n",
    "            j = x[1]\n",
    "            item = ord(j) - 38\n",
    "        return item\n"
   ]
  },
  {
   "cell_type": "markdown",
   "id": "d629d4d2",
   "metadata": {},
   "source": [
    "The function will only return a valid index from A to ZZ. It must be edited for a more accurate return and to account for columns beyond ZZ."
   ]
  },
  {
   "cell_type": "code",
   "execution_count": 386,
   "id": "bcf37522",
   "metadata": {},
   "outputs": [
    {
     "data": {
      "text/plain": [
       "1"
      ]
     },
     "execution_count": 386,
     "metadata": {},
     "output_type": "execute_result"
    }
   ],
   "source": [
    "col_index('A')"
   ]
  },
  {
   "cell_type": "code",
   "execution_count": 389,
   "id": "e1ce2e50",
   "metadata": {},
   "outputs": [
    {
     "data": {
      "text/plain": [
       "52"
      ]
     },
     "execution_count": 389,
     "metadata": {},
     "output_type": "execute_result"
    }
   ],
   "source": [
    "col_index('AZ')"
   ]
  }
 ],
 "metadata": {
  "kernelspec": {
   "display_name": "Python 3 (ipykernel)",
   "language": "python",
   "name": "python3"
  },
  "language_info": {
   "codemirror_mode": {
    "name": "ipython",
    "version": 3
   },
   "file_extension": ".py",
   "mimetype": "text/x-python",
   "name": "python",
   "nbconvert_exporter": "python",
   "pygments_lexer": "ipython3",
   "version": "3.9.12"
  }
 },
 "nbformat": 4,
 "nbformat_minor": 5
}
