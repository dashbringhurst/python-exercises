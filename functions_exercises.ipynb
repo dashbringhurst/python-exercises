{
 "cells": [
  {
   "cell_type": "code",
   "execution_count": 3,
   "id": "9afbfc96",
   "metadata": {},
   "outputs": [],
   "source": [
    "# Define a function named is_two. It should accept one input and return True if the passed \n",
    "# input is either the number or the string 2, False otherwise.\n",
    "\n",
    "def is_two(x):\n",
    "    if x == 2 or x == '2':\n",
    "        return True\n",
    "    else:\n",
    "        return False\n"
   ]
  },
  {
   "cell_type": "code",
   "execution_count": 4,
   "id": "05c67932",
   "metadata": {},
   "outputs": [
    {
     "data": {
      "text/plain": [
       "False"
      ]
     },
     "execution_count": 4,
     "metadata": {},
     "output_type": "execute_result"
    }
   ],
   "source": [
    "is_two('e')"
   ]
  },
  {
   "cell_type": "code",
   "execution_count": 5,
   "id": "6db9b28d",
   "metadata": {},
   "outputs": [
    {
     "data": {
      "text/plain": [
       "True"
      ]
     },
     "execution_count": 5,
     "metadata": {},
     "output_type": "execute_result"
    }
   ],
   "source": [
    "is_two('2')"
   ]
  },
  {
   "cell_type": "code",
   "execution_count": 6,
   "id": "d94e36b0",
   "metadata": {},
   "outputs": [],
   "source": [
    "# Define a function named is_vowel. \n",
    "# It should return True if the passed string is a vowel, False otherwise.\n",
    "vowels = list('aeiouAEIOU')\n",
    "def is_vowel(x):\n",
    "    if x in vowels:\n",
    "        return True\n",
    "    else:\n",
    "        return False\n",
    "    "
   ]
  },
  {
   "cell_type": "code",
   "execution_count": 7,
   "id": "d4a00740",
   "metadata": {},
   "outputs": [
    {
     "data": {
      "text/plain": [
       "False"
      ]
     },
     "execution_count": 7,
     "metadata": {},
     "output_type": "execute_result"
    }
   ],
   "source": [
    "is_vowel('ef')"
   ]
  },
  {
   "cell_type": "code",
   "execution_count": 8,
   "id": "fe05f584",
   "metadata": {},
   "outputs": [
    {
     "data": {
      "text/plain": [
       "False"
      ]
     },
     "execution_count": 8,
     "metadata": {},
     "output_type": "execute_result"
    }
   ],
   "source": [
    "is_vowel('ae')"
   ]
  },
  {
   "cell_type": "code",
   "execution_count": 9,
   "id": "667e2375",
   "metadata": {},
   "outputs": [
    {
     "data": {
      "text/plain": [
       "True"
      ]
     },
     "execution_count": 9,
     "metadata": {},
     "output_type": "execute_result"
    }
   ],
   "source": [
    "is_vowel('I')"
   ]
  },
  {
   "cell_type": "code",
   "execution_count": 10,
   "id": "c0d98db1",
   "metadata": {},
   "outputs": [],
   "source": [
    "# Define a function named is_consonant. It should return True if the passed string is \n",
    "# a consonant, False otherwise. Use your is_vowel function to accomplish this.\n",
    "\n",
    "def is_consonant(x):\n",
    "    if is_vowel(x) == False: \n",
    "        return True\n",
    "    else:\n",
    "        return False"
   ]
  },
  {
   "cell_type": "code",
   "execution_count": 11,
   "id": "73db956c",
   "metadata": {},
   "outputs": [
    {
     "data": {
      "text/plain": [
       "False"
      ]
     },
     "execution_count": 11,
     "metadata": {},
     "output_type": "execute_result"
    }
   ],
   "source": [
    "is_consonant('i')"
   ]
  },
  {
   "cell_type": "code",
   "execution_count": 52,
   "id": "c67b2403",
   "metadata": {},
   "outputs": [
    {
     "data": {
      "text/plain": [
       "True"
      ]
     },
     "execution_count": 52,
     "metadata": {},
     "output_type": "execute_result"
    }
   ],
   "source": [
    "is_consonant('q')"
   ]
  },
  {
   "cell_type": "code",
   "execution_count": 74,
   "id": "980247d0",
   "metadata": {},
   "outputs": [],
   "source": [
    "# Define a function that accepts a string that is a word. The function should capitalize \n",
    "# the first letter of the word if the word starts with a consonant.\n",
    "\n",
    "def capitalize_word(x):\n",
    "    for letter in x:\n",
    "        if is_consonant(letter) == True:\n",
    "            return x.capitalize()\n",
    "        else:\n",
    "            return x"
   ]
  },
  {
   "cell_type": "code",
   "execution_count": 78,
   "id": "ae781e24",
   "metadata": {},
   "outputs": [
    {
     "data": {
      "text/plain": [
       "'Hurrah'"
      ]
     },
     "execution_count": 78,
     "metadata": {},
     "output_type": "execute_result"
    }
   ],
   "source": [
    "capitalize_word('hurrah')"
   ]
  },
  {
   "cell_type": "code",
   "execution_count": 79,
   "id": "a23626f5",
   "metadata": {},
   "outputs": [],
   "source": [
    "# Define a function named calculate_tip. It should accept a tip percentage \n",
    "# (a number between 0 and 1) and the bill total, and return the amount to tip.\n",
    "\n",
    "def calculate_tip(p, b):\n",
    "    tip = p * b\n",
    "    return round(tip, 2)\n"
   ]
  },
  {
   "cell_type": "code",
   "execution_count": 80,
   "id": "b3c2970c",
   "metadata": {},
   "outputs": [
    {
     "data": {
      "text/plain": [
       "3.21"
      ]
     },
     "execution_count": 80,
     "metadata": {},
     "output_type": "execute_result"
    }
   ],
   "source": [
    "calculate_tip(.12, 26.76)"
   ]
  },
  {
   "cell_type": "code",
   "execution_count": 81,
   "id": "874c40ce",
   "metadata": {},
   "outputs": [],
   "source": [
    "# Define a function named apply_discount. It should accept a original price, \n",
    "# and a discount percentage, and return the price after the discount is applied.\n",
    "\n",
    "def apply_discount(x, y):\n",
    "    discount_price = x - (x * (y / 100))\n",
    "    return round(discount_price, 2)"
   ]
  },
  {
   "cell_type": "code",
   "execution_count": 82,
   "id": "0e41a926",
   "metadata": {},
   "outputs": [
    {
     "data": {
      "text/plain": [
       "160.65"
      ]
     },
     "execution_count": 82,
     "metadata": {},
     "output_type": "execute_result"
    }
   ],
   "source": [
    "apply_discount(178.50, 10)"
   ]
  },
  {
   "cell_type": "code",
   "execution_count": 83,
   "id": "677358fa",
   "metadata": {},
   "outputs": [],
   "source": [
    "# Define a function named handle_commas. It should accept a string that is a number \n",
    "# that contains commas in it as input, and return a number as output.\n",
    "\n",
    "def handle_commas(string):\n",
    "    for character in ',':\n",
    "        string = string.replace(character, '')\n",
    "    return int(string)\n",
    "   "
   ]
  },
  {
   "cell_type": "code",
   "execution_count": 84,
   "id": "33db0279",
   "metadata": {},
   "outputs": [
    {
     "data": {
      "text/plain": [
       "4000"
      ]
     },
     "execution_count": 84,
     "metadata": {},
     "output_type": "execute_result"
    }
   ],
   "source": [
    "handle_commas('4,0,0,0')"
   ]
  },
  {
   "cell_type": "code",
   "execution_count": 85,
   "id": "5a28c7d6",
   "metadata": {},
   "outputs": [],
   "source": [
    "# Define a function named get_letter_grade. It should accept a number and return the \n",
    "# letter grade associated with that number (A-F).\n",
    "\n",
    "def get_letter_grade(x):\n",
    "    if x >= 90:\n",
    "        return 'A'\n",
    "    elif x >= 80:\n",
    "        return 'B'\n",
    "    elif x >= 70:\n",
    "        return 'C'\n",
    "    elif x >= 60:\n",
    "        return 'D'\n",
    "    return 'F'"
   ]
  },
  {
   "cell_type": "code",
   "execution_count": 86,
   "id": "3ea6df38",
   "metadata": {},
   "outputs": [
    {
     "data": {
      "text/plain": [
       "'D'"
      ]
     },
     "execution_count": 86,
     "metadata": {},
     "output_type": "execute_result"
    }
   ],
   "source": [
    "get_letter_grade(65)"
   ]
  },
  {
   "cell_type": "code",
   "execution_count": 87,
   "id": "58e0c56a",
   "metadata": {},
   "outputs": [],
   "source": [
    "# Define a function named remove_vowels that accepts a string and returns a string \n",
    "# with all the vowels removed.\n",
    "\n",
    "def remove_vowels(string):\n",
    "    vowels = 'aeiouAEIOU'\n",
    "    for item in string:\n",
    "        if item == item in vowels:\n",
    "            string = string.replace(item, '')\n",
    "    return string"
   ]
  },
  {
   "cell_type": "code",
   "execution_count": 88,
   "id": "a3a58762",
   "metadata": {},
   "outputs": [
    {
     "data": {
      "text/plain": [
       "'gnrnnr'"
      ]
     },
     "execution_count": 88,
     "metadata": {},
     "output_type": "execute_result"
    }
   ],
   "source": [
    "remove_vowels('gunrunner')"
   ]
  },
  {
   "cell_type": "code",
   "execution_count": 89,
   "id": "24f1614c",
   "metadata": {},
   "outputs": [],
   "source": [
    "# Define a function named normalize_name. It should accept a string and return a valid \n",
    "# python identifier, that is:\n",
    "# anything that is not a valid python identifier should be removed\n",
    "# leading and trailing whitespace should be removed\n",
    "# everything should be lowercase\n",
    "# spaces should be replaced with underscores\n",
    "# for example:\n",
    "# Name will become name\n",
    "# First Name will become first_name\n",
    "# % Completed will become completed\n",
    "\n",
    "def normalize_name(string):\n",
    "    forbidden_chars = '!@#$%^&*()-+{}[]\\|;:\\'\\\"/?.><,`~\\\\'\n",
    "    for item in string:\n",
    "        if item in forbidden_chars:\n",
    "            string = string.replace(item, '')\n",
    "    string = string.strip()\n",
    "    string = string.lower()\n",
    "    string = string.replace(' ', '_')\n",
    "    return string\n",
    "    "
   ]
  },
  {
   "cell_type": "code",
   "execution_count": 90,
   "id": "12414fb4",
   "metadata": {},
   "outputs": [
    {
     "data": {
      "text/plain": [
       "'howdy_ho'"
      ]
     },
     "execution_count": 90,
     "metadata": {},
     "output_type": "execute_result"
    }
   ],
   "source": [
    "normalize_name(' How%dy Ho ! ')"
   ]
  },
  {
   "cell_type": "code",
   "execution_count": 91,
   "id": "8f585b67",
   "metadata": {},
   "outputs": [],
   "source": [
    "# Write a function named cumulative_sum that accepts a list of numbers and returns \n",
    "# a list that is the cumulative sum of the numbers in the list.\n",
    "# cumulative_sum([1, 1, 1]) returns [1, 2, 3]\n",
    "# cumulative_sum([1, 2, 3, 4]) returns [1, 3, 6, 10]\n",
    "\n",
    "def cumulative_sum(x):\n",
    "    cumulative_list = []\n",
    "    csum = 0\n",
    "    for number in x:\n",
    "        csum += number\n",
    "        cumulative_list.append(csum)\n",
    "    return cumulative_list\n",
    "        "
   ]
  },
  {
   "cell_type": "code",
   "execution_count": 92,
   "id": "693001a0",
   "metadata": {},
   "outputs": [
    {
     "data": {
      "text/plain": [
       "[1, 3, 6, 10]"
      ]
     },
     "execution_count": 92,
     "metadata": {},
     "output_type": "execute_result"
    }
   ],
   "source": [
    "cumulative_sum([1, 2, 3, 4])"
   ]
  },
  {
   "cell_type": "code",
   "execution_count": 93,
   "id": "9835fc6b",
   "metadata": {},
   "outputs": [],
   "source": [
    "# Once you've completed the above exercises, follow the directions from \n",
    "# https://gist.github.com/zgulde/ec8ed80ad8216905cda83d5645c60886 \n",
    "# in order to thouroughly comment your code to explain your code."
   ]
  },
  {
   "cell_type": "code",
   "execution_count": 348,
   "id": "b4c14542",
   "metadata": {},
   "outputs": [],
   "source": [
    "# Create a function named twelveto24. It should accept a string in the format \n",
    "# 10:45am or 4:30pm and return a string that is the representation of the time \n",
    "# in a 24-hour format. Bonus write a function that does the opposite.\n",
    "\n",
    "def twelveto24(string):\n",
    "    if string[0:2].isdigit() and 'pm' in string:\n",
    "        string = string.replace(':', '')\n",
    "        hour = (int(string[0:2]) + 12)\n",
    "        if hour == 24:\n",
    "            hour = '00'\n",
    "        string = string.replace(string[0:2],str(hour))\n",
    "        string = string.replace('pm', '')\n",
    "    elif string[0:1].isdigit() and 'pm' in string:\n",
    "        hour = (int(string[0:1]) + 12)\n",
    "        string = string.replace(string[0:1],str(hour))\n",
    "        string = string.replace('pm', '')\n",
    "        string = string.replace(':', '')\n",
    "    else:\n",
    "        hour = int(string[0:1])\n",
    "        if hour < 10:\n",
    "            hour = '0' + (str(hour))\n",
    "        string = string.replace(string[0:1],str(hour))\n",
    "        string = string.replace('pm', '')\n",
    "        string = string.replace(':', '')\n",
    "        string = string.replace('am', '')\n",
    "    return string\n",
    "       "
   ]
  },
  {
   "cell_type": "code",
   "execution_count": 349,
   "id": "11b433a8",
   "metadata": {},
   "outputs": [
    {
     "data": {
      "text/plain": [
       "'0134'"
      ]
     },
     "execution_count": 349,
     "metadata": {},
     "output_type": "execute_result"
    }
   ],
   "source": [
    "twelveto24('1:34am')"
   ]
  },
  {
   "cell_type": "code",
   "execution_count": 350,
   "id": "10557aac",
   "metadata": {},
   "outputs": [
    {
     "data": {
      "text/plain": [
       "'2334'"
      ]
     },
     "execution_count": 350,
     "metadata": {},
     "output_type": "execute_result"
    }
   ],
   "source": [
    "twelveto24('11:34pm')"
   ]
  },
  {
   "cell_type": "code",
   "execution_count": 385,
   "id": "0755082e",
   "metadata": {},
   "outputs": [],
   "source": [
    "# Create a function named col_index. It should accept a spreadsheet column name, \n",
    "# and return the index number of the column.\n",
    "# col_index('A') returns 1\n",
    "# col_index('B') returns 2\n",
    "# col_index('AA') returns 27\n",
    "\n",
    "def col_index(x):\n",
    "    for item in x:\n",
    "        if len(x) == 1:\n",
    "            item = ord(x) - 64\n",
    "        if len(x) != 1:\n",
    "            i = x[0]\n",
    "            j = x[1]\n",
    "            item = ord(j) - 38\n",
    "        return item\n"
   ]
  },
  {
   "cell_type": "code",
   "execution_count": 386,
   "id": "bcf37522",
   "metadata": {},
   "outputs": [
    {
     "data": {
      "text/plain": [
       "1"
      ]
     },
     "execution_count": 386,
     "metadata": {},
     "output_type": "execute_result"
    }
   ],
   "source": [
    "col_index('A')"
   ]
  },
  {
   "cell_type": "code",
   "execution_count": 389,
   "id": "e1ce2e50",
   "metadata": {},
   "outputs": [
    {
     "data": {
      "text/plain": [
       "52"
      ]
     },
     "execution_count": 389,
     "metadata": {},
     "output_type": "execute_result"
    }
   ],
   "source": [
    "col_index('AZ')"
   ]
  },
  {
   "cell_type": "code",
   "execution_count": null,
   "id": "a6886c99",
   "metadata": {},
   "outputs": [],
   "source": []
  },
  {
   "cell_type": "code",
   "execution_count": null,
   "id": "8c5fe14b",
   "metadata": {},
   "outputs": [],
   "source": []
  }
 ],
 "metadata": {
  "kernelspec": {
   "display_name": "Python 3 (ipykernel)",
   "language": "python",
   "name": "python3"
  },
  "language_info": {
   "codemirror_mode": {
    "name": "ipython",
    "version": 3
   },
   "file_extension": ".py",
   "mimetype": "text/x-python",
   "name": "python",
   "nbconvert_exporter": "python",
   "pygments_lexer": "ipython3",
   "version": "3.9.12"
  }
 },
 "nbformat": 4,
 "nbformat_minor": 5
}
