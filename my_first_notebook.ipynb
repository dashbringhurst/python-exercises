{
 "cells": [
  {
   "cell_type": "markdown",
   "id": "ed65f989",
   "metadata": {},
   "source": [
    "# Large Heading\n",
    "## Medium Heading\n",
    "### Small Heading"
   ]
  },
  {
   "cell_type": "code",
   "execution_count": 1,
   "id": "d730a79e",
   "metadata": {},
   "outputs": [
    {
     "name": "stdout",
     "output_type": "stream",
     "text": [
      "Hello, World!\n"
     ]
    }
   ],
   "source": [
    "print('Hello, World!')"
   ]
  },
  {
   "cell_type": "code",
   "execution_count": 2,
   "id": "96cbace5",
   "metadata": {},
   "outputs": [
    {
     "data": {
      "text/plain": [
       "int"
      ]
     },
     "execution_count": 2,
     "metadata": {},
     "output_type": "execute_result"
    }
   ],
   "source": [
    "type(123)"
   ]
  },
  {
   "cell_type": "code",
   "execution_count": 4,
   "id": "a8906220",
   "metadata": {},
   "outputs": [
    {
     "data": {
      "text/plain": [
       "str"
      ]
     },
     "execution_count": 4,
     "metadata": {},
     "output_type": "execute_result"
    }
   ],
   "source": [
    "type('Dash')"
   ]
  },
  {
   "cell_type": "markdown",
   "id": "12d9990b",
   "metadata": {},
   "source": [
    "Command-S to save\n",
    "Closing browser or tab will not shut down kernel\n",
    "Don't have two of the same page open simultaneously"
   ]
  },
  {
   "cell_type": "code",
   "execution_count": null,
   "id": "f136749a",
   "metadata": {},
   "outputs": [],
   "source": []
  }
 ],
 "metadata": {
  "kernelspec": {
   "display_name": "Python 3 (ipykernel)",
   "language": "python",
   "name": "python3"
  },
  "language_info": {
   "codemirror_mode": {
    "name": "ipython",
    "version": 3
   },
   "file_extension": ".py",
   "mimetype": "text/x-python",
   "name": "python",
   "nbconvert_exporter": "python",
   "pygments_lexer": "ipython3",
   "version": "3.9.12"
  }
 },
 "nbformat": 4,
 "nbformat_minor": 5
}
